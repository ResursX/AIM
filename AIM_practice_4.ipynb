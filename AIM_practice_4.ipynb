{
 "cells": [
  {
   "cell_type": "markdown",
   "id": "2fad985f",
   "metadata": {},
   "source": [
    "## Задание\n",
    "\n",
    "Постройте графики зависимости сходимости (значение функции потерь от количества итераций работы алгоритма) от выбора оптимизационного метода.\n",
    "\n",
    "Количество эпох: 50\n",
    "\n",
    "Сравните, сделайте выводы.\n",
    "\n",
    "https://pytorch.org/docs/stable/optim.html"
   ]
  },
  {
   "cell_type": "markdown",
   "id": "08186819",
   "metadata": {},
   "source": [
    "## Решение"
   ]
  },
  {
   "cell_type": "markdown",
   "id": "3d454c53",
   "metadata": {},
   "source": [
    "##### Импорт"
   ]
  },
  {
   "cell_type": "code",
   "execution_count": 1,
   "id": "efa0eed0",
   "metadata": {},
   "outputs": [],
   "source": [
    "import torch\n",
    "from torch import nn\n",
    "from torch.utils.data import DataLoader\n",
    "from torchvision import datasets\n",
    "from torchvision.transforms import ToTensor\n",
    "\n",
    "import matplotlib.pyplot as plt\n",
    "\n",
    "import os\n",
    "\n",
    "from common.progressbar import log_progress"
   ]
  },
  {
   "cell_type": "markdown",
   "id": "da3a1376",
   "metadata": {},
   "source": [
    "##### Настройки"
   ]
  },
  {
   "cell_type": "code",
   "execution_count": 2,
   "id": "6a372b87",
   "metadata": {},
   "outputs": [],
   "source": [
    "# Количество эпох\n",
    "EPOCHS = 50\n",
    "\n",
    "# Коэффициент скорости обучения\n",
    "LEARNING_RATE = 1e-3\n",
    "\n",
    "# Размер пакета\n",
    "BATCH_SIZE = 64\n",
    "\n",
    "# Папка лабораторной\n",
    "DIR_LAB = 'Lab4'\n",
    "\n",
    "# Папка для загруженных данных\n",
    "DIR_DATA = 'data'\n",
    "\n",
    "# Список оптимизаторов с настройками\n",
    "OPTIMIZERS = [\n",
    "    { 'name': 'SGD', 'optimizer': torch.optim.SGD, 'parameters': {} },\n",
    "    { 'name': 'RMSprop', 'optimizer': torch.optim.RMSprop, 'parameters': { 'alpha': 0.9 } },\n",
    "    { 'name': 'Adam', 'optimizer': torch.optim.Adam, 'parameters': {} }\n",
    "]"
   ]
  },
  {
   "cell_type": "code",
   "execution_count": 3,
   "id": "72b895e7",
   "metadata": {},
   "outputs": [],
   "source": [
    "PATH_DATA = os.path.join(DIR_LAB, DIR_DATA)"
   ]
  },
  {
   "cell_type": "markdown",
   "id": "72be8027",
   "metadata": {},
   "source": [
    "##### Устройство"
   ]
  },
  {
   "cell_type": "code",
   "execution_count": 62,
   "id": "602f2419",
   "metadata": {},
   "outputs": [],
   "source": [
    "device = torch.device(\"cuda\" if torch.cuda.is_available() else \"cpu\")"
   ]
  },
  {
   "cell_type": "markdown",
   "id": "2f5f7fa2",
   "metadata": {},
   "source": [
    "##### Класс модели"
   ]
  },
  {
   "cell_type": "code",
   "execution_count": 4,
   "id": "7ae4ac1b",
   "metadata": {},
   "outputs": [],
   "source": [
    "class NeuralNetwork(nn.Module):\n",
    "    def __init__(self):\n",
    "        super().__init__()\n",
    "        self.flatten = nn.Flatten()\n",
    "        self.linear_relu_stack = nn.Sequential(\n",
    "            nn.Linear(28*28, 512),\n",
    "            nn.ReLU(),\n",
    "            nn.Linear(512, 512),\n",
    "            nn.ReLU(),\n",
    "            nn.Linear(512, 10),\n",
    "        )\n",
    "\n",
    "    def forward(self, x):\n",
    "        x = self.flatten(x)\n",
    "        logits = self.linear_relu_stack(x)\n",
    "        return logits"
   ]
  },
  {
   "cell_type": "markdown",
   "id": "66bd31b6",
   "metadata": {},
   "source": [
    "##### Функции тренировки модели"
   ]
  },
  {
   "cell_type": "code",
   "execution_count": 69,
   "id": "87ce9307",
   "metadata": {},
   "outputs": [],
   "source": [
    "def train_loop(device, dataloader, model, loss_fn, optimizer): # batch_size=BATCH_SIZE\n",
    "    size = len(dataloader.dataset)\n",
    "    # Set the model to training mode - important for batch normalization and dropout layers\n",
    "    # Unnecessary in this situation but added for best practices\n",
    "    model.train()\n",
    "    sum_loss = 0\n",
    "\n",
    "    #for batch, (X, y) in enumerate(dataloader):\n",
    "    for X, y in dataloader:\n",
    "        X = X.to(device)\n",
    "        y = y.to(device)\n",
    "\n",
    "        # Compute prediction and loss\n",
    "        pred = model(X)\n",
    "        loss = loss_fn(pred, y)\n",
    "        sum_loss += loss.item()\n",
    "\n",
    "        # Backpropagation\n",
    "        loss.backward()\n",
    "        optimizer.step()\n",
    "        optimizer.zero_grad()\n",
    "\n",
    "        #if batch % 100 == 0:\n",
    "            #loss, current = loss.item(), batch * batch_size + len(X)\n",
    "            #print(f\"loss: {loss:>7f}  [{current:>5d}/{size:>5d}]\")"
   ]
  },
  {
   "cell_type": "code",
   "execution_count": 70,
   "id": "accbbee8",
   "metadata": {},
   "outputs": [],
   "source": [
    "def test_loop(device, dataloader, model, loss_fn):\n",
    "    # Set the model to evaluation mode - important for batch normalization and dropout layers\n",
    "    # Unnecessary in this situation but added for best practices\n",
    "    model.eval()\n",
    "    size = len(dataloader.dataset)\n",
    "    num_batches = len(dataloader)\n",
    "    test_loss, correct = 0, 0\n",
    "\n",
    "    # Evaluating the model with torch.no_grad() ensures that no gradients are computed during test mode\n",
    "    # also serves to reduce unnecessary gradient computations and memory usage for tensors with requires_grad=True\n",
    "    with torch.no_grad():\n",
    "        for X, y in dataloader:\n",
    "            X = X.to(device)\n",
    "            y = y.to(device)\n",
    "\n",
    "            pred = model(X)\n",
    "            test_loss += loss_fn(pred, y).item()\n",
    "            correct += (pred.argmax(1) == y).type(torch.float).sum().item()\n",
    "\n",
    "    test_loss /= num_batches\n",
    "    correct /= size\n",
    "    #print(f\"Test Error: \\n Accuracy: {(100*correct):>0.1f}%, Avg loss: {test_loss:>8f} \\n\")\n",
    "    return correct, test_loss"
   ]
  },
  {
   "cell_type": "code",
   "execution_count": 68,
   "id": "8519c8f7",
   "metadata": {},
   "outputs": [],
   "source": [
    "def run_training(device, train_dataloader, test_dataloader, model, loss_fn, optimizer, epochs=EPOCHS, batch_size=BATCH_SIZE, name=None):\n",
    "    #train_loss = []\n",
    "    test_loss = []\n",
    "\n",
    "    model = model.to(device)\n",
    "\n",
    "    for t in log_progress(range(epochs), name=f'{name}: Эпоха' if name is not None else 'Эпоха'):\n",
    "        #print(f\"Epoch {t+1}\\n-------------------------------\")\n",
    "        print(f\"Epoch {t+1} | \", end='')\n",
    "        #sum_loss = \n",
    "        train_loop(device, train_dataloader, model, loss_fn, optimizer) #, batch_size=BATCH_SIZE)\n",
    "        #train_loss.append(sum_loss)\n",
    "\n",
    "        acc, avg_loss = test_loop(device, test_dataloader, model, loss_fn)\n",
    "        test_loss.append(avg_loss)\n",
    "\n",
    "        print(f\"Accuracy: {(100*acc):>0.1f}%, Avg loss: {avg_loss:>8f} \")\n",
    "    #print(\"Done!\\n\")\n",
    "    \n",
    "    return test_loss"
   ]
  },
  {
   "cell_type": "markdown",
   "id": "a4ec6092",
   "metadata": {},
   "source": [
    "##### Загрузка данных"
   ]
  },
  {
   "cell_type": "code",
   "execution_count": 64,
   "id": "b549ceb5",
   "metadata": {},
   "outputs": [],
   "source": [
    "training_data = datasets.FashionMNIST(\n",
    "    root=PATH_DATA,\n",
    "    train=True,\n",
    "    download=True,\n",
    "    transform=ToTensor()\n",
    ")\n",
    "\n",
    "test_data = datasets.FashionMNIST(\n",
    "    root=PATH_DATA,\n",
    "    train=False,\n",
    "    download=True,\n",
    "    transform=ToTensor()\n",
    ")\n",
    "\n",
    "train_dataloader = DataLoader(training_data, batch_size=BATCH_SIZE, pin_memory=True)\n",
    "test_dataloader = DataLoader(test_data, batch_size=BATCH_SIZE, pin_memory=True)"
   ]
  },
  {
   "cell_type": "markdown",
   "id": "098dc0fe",
   "metadata": {},
   "source": [
    "##### Функция потерь"
   ]
  },
  {
   "cell_type": "code",
   "execution_count": 65,
   "id": "3abbb49a",
   "metadata": {},
   "outputs": [],
   "source": [
    "loss_fn = nn.CrossEntropyLoss()"
   ]
  },
  {
   "cell_type": "markdown",
   "id": "adfcfc80",
   "metadata": {},
   "source": [
    "##### Тестируем алгоритмы"
   ]
  },
  {
   "cell_type": "code",
   "execution_count": 71,
   "id": "efd83a21",
   "metadata": {},
   "outputs": [
    {
     "data": {
      "application/vnd.jupyter.widget-view+json": {
       "model_id": "fa491768f3d444bab904c3e19641dd3a",
       "version_major": 2,
       "version_minor": 0
      },
      "text/plain": [
       "VBox(children=(HTML(value=''), IntProgress(value=0, max=3)))"
      ]
     },
     "metadata": {},
     "output_type": "display_data"
    },
    {
     "data": {
      "application/vnd.jupyter.widget-view+json": {
       "model_id": "6ce7793ee1a24d9bb253b40d3aac5dcc",
       "version_major": 2,
       "version_minor": 0
      },
      "text/plain": [
       "VBox(children=(HTML(value=''), IntProgress(value=0, max=50)))"
      ]
     },
     "metadata": {},
     "output_type": "display_data"
    },
    {
     "name": "stdout",
     "output_type": "stream",
     "text": [
      "Epoch 1 | Accuracy: 45.8%, Avg loss: 2.178146 \n",
      "Epoch 2 | Accuracy: 55.2%, Avg loss: 1.938046 \n",
      "Epoch 3 | Accuracy: 59.4%, Avg loss: 1.578276 \n",
      "Epoch 4 | Accuracy: 62.6%, Avg loss: 1.298048 \n",
      "Epoch 5 | Accuracy: 64.4%, Avg loss: 1.121230 \n",
      "Epoch 6 | Accuracy: 65.8%, Avg loss: 1.006519 \n",
      "Epoch 7 | Accuracy: 67.1%, Avg loss: 0.928437 \n",
      "Epoch 8 | Accuracy: 68.4%, Avg loss: 0.872679 \n",
      "Epoch 9 | Accuracy: 69.6%, Avg loss: 0.830867 \n",
      "Epoch 10 | Accuracy: 70.7%, Avg loss: 0.797951 \n",
      "Epoch 11 | Accuracy: 72.2%, Avg loss: 0.770907 \n",
      "Epoch 12 | Accuracy: 73.1%, Avg loss: 0.747797 \n",
      "Epoch 13 | Accuracy: 74.0%, Avg loss: 0.727430 \n",
      "Epoch 14 | Accuracy: 74.7%, Avg loss: 0.709135 \n",
      "Epoch 15 | Accuracy: 75.5%, Avg loss: 0.692516 \n",
      "Epoch 16 | Accuracy: 76.0%, Avg loss: 0.677277 \n",
      "Epoch 17 | Accuracy: 76.8%, Avg loss: 0.663229 \n",
      "Epoch 18 | Accuracy: 77.4%, Avg loss: 0.650251 \n",
      "Epoch 19 | Accuracy: 77.9%, Avg loss: 0.638245 \n",
      "Epoch 20 | Accuracy: 78.3%, Avg loss: 0.627118 \n",
      "Epoch 21 | Accuracy: 78.8%, Avg loss: 0.616849 \n",
      "Epoch 22 | Accuracy: 79.2%, Avg loss: 0.607374 \n",
      "Epoch 23 | Accuracy: 79.4%, Avg loss: 0.598584 \n",
      "Epoch 24 | Accuracy: 79.7%, Avg loss: 0.590417 \n",
      "Epoch 25 | Accuracy: 79.9%, Avg loss: 0.582819 \n",
      "Epoch 26 | Accuracy: 80.2%, Avg loss: 0.575739 \n",
      "Epoch 27 | Accuracy: 80.4%, Avg loss: 0.569134 \n",
      "Epoch 28 | Accuracy: 80.7%, Avg loss: 0.562957 \n",
      "Epoch 29 | Accuracy: 80.8%, Avg loss: 0.557171 \n",
      "Epoch 30 | Accuracy: 81.1%, Avg loss: 0.551741 \n",
      "Epoch 31 | Accuracy: 81.2%, Avg loss: 0.546649 \n",
      "Epoch 32 | Accuracy: 81.3%, Avg loss: 0.541869 \n",
      "Epoch 33 | Accuracy: 81.5%, Avg loss: 0.537377 \n",
      "Epoch 34 | Accuracy: 81.5%, Avg loss: 0.533151 \n",
      "Epoch 35 | Accuracy: 81.6%, Avg loss: 0.529168 \n",
      "Epoch 36 | Accuracy: 81.7%, Avg loss: 0.525411 \n",
      "Epoch 37 | Accuracy: 81.9%, Avg loss: 0.521854 \n",
      "Epoch 38 | Accuracy: 81.9%, Avg loss: 0.518474 \n",
      "Epoch 39 | Accuracy: 81.9%, Avg loss: 0.515266 \n",
      "Epoch 40 | Accuracy: 82.0%, Avg loss: 0.512233 \n",
      "Epoch 41 | Accuracy: 82.0%, Avg loss: 0.509358 \n",
      "Epoch 42 | Accuracy: 82.0%, Avg loss: 0.506634 \n",
      "Epoch 43 | Accuracy: 82.1%, Avg loss: 0.504048 \n",
      "Epoch 44 | Accuracy: 82.2%, Avg loss: 0.501590 \n",
      "Epoch 45 | Accuracy: 82.2%, Avg loss: 0.499245 \n",
      "Epoch 46 | Accuracy: 82.3%, Avg loss: 0.497000 \n",
      "Epoch 47 | Accuracy: 82.4%, Avg loss: 0.494853 \n",
      "Epoch 48 | Accuracy: 82.5%, Avg loss: 0.492796 \n",
      "Epoch 49 | Accuracy: 82.6%, Avg loss: 0.490820 \n",
      "Epoch 50 | Accuracy: 82.7%, Avg loss: 0.488920 \n"
     ]
    },
    {
     "data": {
      "application/vnd.jupyter.widget-view+json": {
       "model_id": "af392634d6e64916875ece94795a58e6",
       "version_major": 2,
       "version_minor": 0
      },
      "text/plain": [
       "VBox(children=(HTML(value=''), IntProgress(value=0, max=50)))"
      ]
     },
     "metadata": {},
     "output_type": "display_data"
    },
    {
     "name": "stdout",
     "output_type": "stream",
     "text": [
      "Epoch 1 | Accuracy: 81.9%, Avg loss: 0.476772 \n",
      "Epoch 2 | Accuracy: 84.7%, Avg loss: 0.426514 \n",
      "Epoch 3 | Accuracy: 85.7%, Avg loss: 0.421251 \n",
      "Epoch 4 | Accuracy: 84.7%, Avg loss: 0.449041 \n",
      "Epoch 5 | Accuracy: 84.8%, Avg loss: 0.469721 \n",
      "Epoch 6 | Accuracy: 86.4%, Avg loss: 0.447541 \n",
      "Epoch 7 | Accuracy: 85.6%, Avg loss: 0.494573 \n",
      "Epoch 8 | Accuracy: 87.0%, Avg loss: 0.467074 \n",
      "Epoch 9 | Accuracy: 86.8%, Avg loss: 0.457237 \n",
      "Epoch 10 | Accuracy: 87.5%, Avg loss: 0.516097 \n",
      "Epoch 11 | Accuracy: 85.4%, Avg loss: 0.654547 \n",
      "Epoch 12 | Accuracy: 87.2%, Avg loss: 0.560100 \n",
      "Epoch 13 | Accuracy: 86.6%, Avg loss: 0.777135 \n",
      "Epoch 14 | Accuracy: 87.8%, Avg loss: 0.598723 \n",
      "Epoch 15 | Accuracy: 87.5%, Avg loss: 0.601643 \n",
      "Epoch 16 | Accuracy: 87.1%, Avg loss: 0.650090 \n",
      "Epoch 17 | Accuracy: 87.4%, Avg loss: 0.660146 \n",
      "Epoch 18 | Accuracy: 88.3%, Avg loss: 0.628546 \n",
      "Epoch 19 | Accuracy: 86.7%, Avg loss: 0.784319 \n",
      "Epoch 20 | Accuracy: 87.8%, Avg loss: 0.709122 \n",
      "Epoch 21 | Accuracy: 88.3%, Avg loss: 0.652920 \n",
      "Epoch 22 | Accuracy: 88.5%, Avg loss: 0.710017 \n",
      "Epoch 23 | Accuracy: 88.6%, Avg loss: 0.721735 \n",
      "Epoch 24 | Accuracy: 87.3%, Avg loss: 0.807031 \n",
      "Epoch 25 | Accuracy: 86.1%, Avg loss: 0.825430 \n",
      "Epoch 26 | Accuracy: 87.7%, Avg loss: 0.786935 \n",
      "Epoch 27 | Accuracy: 87.5%, Avg loss: 0.978409 \n",
      "Epoch 28 | Accuracy: 88.7%, Avg loss: 0.862096 \n",
      "Epoch 29 | Accuracy: 88.1%, Avg loss: 0.870216 \n",
      "Epoch 30 | Accuracy: 87.8%, Avg loss: 0.883189 \n",
      "Epoch 31 | Accuracy: 86.7%, Avg loss: 0.924053 \n",
      "Epoch 32 | Accuracy: 87.1%, Avg loss: 0.937289 \n",
      "Epoch 33 | Accuracy: 88.2%, Avg loss: 0.826251 \n",
      "Epoch 34 | Accuracy: 87.1%, Avg loss: 0.981137 \n",
      "Epoch 35 | Accuracy: 88.5%, Avg loss: 0.929339 \n",
      "Epoch 36 | Accuracy: 87.5%, Avg loss: 1.177542 \n",
      "Epoch 37 | Accuracy: 88.4%, Avg loss: 1.031491 \n",
      "Epoch 38 | Accuracy: 87.1%, Avg loss: 0.947807 \n",
      "Epoch 39 | Accuracy: 88.3%, Avg loss: 0.896186 \n",
      "Epoch 40 | Accuracy: 88.4%, Avg loss: 1.030739 \n",
      "Epoch 41 | Accuracy: 88.2%, Avg loss: 1.073419 \n",
      "Epoch 42 | Accuracy: 88.2%, Avg loss: 1.223761 \n",
      "Epoch 43 | Accuracy: 88.6%, Avg loss: 1.156587 \n",
      "Epoch 44 | Accuracy: 88.2%, Avg loss: 1.107913 \n",
      "Epoch 45 | Accuracy: 86.5%, Avg loss: 1.377256 \n",
      "Epoch 46 | Accuracy: 88.6%, Avg loss: 1.291942 \n",
      "Epoch 47 | Accuracy: 88.4%, Avg loss: 1.396159 \n",
      "Epoch 48 | Accuracy: 87.8%, Avg loss: 1.257153 \n",
      "Epoch 49 | Accuracy: 88.1%, Avg loss: 1.348071 \n",
      "Epoch 50 | Accuracy: 88.3%, Avg loss: 1.291670 \n"
     ]
    },
    {
     "data": {
      "application/vnd.jupyter.widget-view+json": {
       "model_id": "689f3be19df545c5918996c6a1ef8f81",
       "version_major": 2,
       "version_minor": 0
      },
      "text/plain": [
       "VBox(children=(HTML(value=''), IntProgress(value=0, max=50)))"
      ]
     },
     "metadata": {},
     "output_type": "display_data"
    },
    {
     "name": "stdout",
     "output_type": "stream",
     "text": [
      "Epoch 1 | Accuracy: 84.7%, Avg loss: 0.416608 \n",
      "Epoch 2 | Accuracy: 85.1%, Avg loss: 0.405365 \n",
      "Epoch 3 | Accuracy: 85.8%, Avg loss: 0.380453 \n",
      "Epoch 4 | Accuracy: 86.3%, Avg loss: 0.365536 \n",
      "Epoch 5 | Accuracy: 86.9%, Avg loss: 0.354920 \n",
      "Epoch 6 | Accuracy: 87.6%, Avg loss: 0.341062 \n",
      "Epoch 7 | Accuracy: 88.0%, Avg loss: 0.342375 \n",
      "Epoch 8 | Accuracy: 87.9%, Avg loss: 0.348695 \n",
      "Epoch 9 | Accuracy: 87.8%, Avg loss: 0.348129 \n",
      "Epoch 10 | Accuracy: 87.9%, Avg loss: 0.350994 \n",
      "Epoch 11 | Accuracy: 87.3%, Avg loss: 0.381915 \n",
      "Epoch 12 | Accuracy: 87.6%, Avg loss: 0.377836 \n",
      "Epoch 13 | Accuracy: 87.8%, Avg loss: 0.389678 \n",
      "Epoch 14 | Accuracy: 88.1%, Avg loss: 0.374302 \n",
      "Epoch 15 | Accuracy: 88.0%, Avg loss: 0.420932 \n",
      "Epoch 16 | Accuracy: 87.8%, Avg loss: 0.454987 \n",
      "Epoch 17 | Accuracy: 88.5%, Avg loss: 0.432858 \n",
      "Epoch 18 | Accuracy: 87.9%, Avg loss: 0.485156 \n",
      "Epoch 19 | Accuracy: 88.7%, Avg loss: 0.471361 \n",
      "Epoch 20 | Accuracy: 88.4%, Avg loss: 0.496051 \n",
      "Epoch 21 | Accuracy: 88.7%, Avg loss: 0.468351 \n",
      "Epoch 22 | Accuracy: 88.7%, Avg loss: 0.480783 \n",
      "Epoch 23 | Accuracy: 88.4%, Avg loss: 0.498492 \n",
      "Epoch 24 | Accuracy: 88.9%, Avg loss: 0.496005 \n",
      "Epoch 25 | Accuracy: 88.7%, Avg loss: 0.533280 \n",
      "Epoch 26 | Accuracy: 88.1%, Avg loss: 0.517627 \n",
      "Epoch 27 | Accuracy: 87.9%, Avg loss: 0.536814 \n",
      "Epoch 28 | Accuracy: 88.5%, Avg loss: 0.537904 \n",
      "Epoch 29 | Accuracy: 88.4%, Avg loss: 0.525283 \n",
      "Epoch 30 | Accuracy: 87.9%, Avg loss: 0.537902 \n",
      "Epoch 31 | Accuracy: 88.3%, Avg loss: 0.567123 \n",
      "Epoch 32 | Accuracy: 88.1%, Avg loss: 0.601509 \n",
      "Epoch 33 | Accuracy: 88.1%, Avg loss: 0.646701 \n",
      "Epoch 34 | Accuracy: 88.7%, Avg loss: 0.647766 \n",
      "Epoch 35 | Accuracy: 88.6%, Avg loss: 0.641483 \n",
      "Epoch 36 | Accuracy: 88.5%, Avg loss: 0.678931 \n",
      "Epoch 37 | Accuracy: 88.3%, Avg loss: 0.674535 \n",
      "Epoch 38 | Accuracy: 88.6%, Avg loss: 0.678034 \n",
      "Epoch 39 | Accuracy: 88.3%, Avg loss: 0.738366 \n",
      "Epoch 40 | Accuracy: 88.2%, Avg loss: 0.741086 \n",
      "Epoch 41 | Accuracy: 88.8%, Avg loss: 0.684390 \n",
      "Epoch 42 | Accuracy: 88.4%, Avg loss: 0.678322 \n",
      "Epoch 43 | Accuracy: 88.3%, Avg loss: 0.740577 \n",
      "Epoch 44 | Accuracy: 88.1%, Avg loss: 0.765431 \n",
      "Epoch 45 | Accuracy: 88.5%, Avg loss: 0.776828 \n",
      "Epoch 46 | Accuracy: 88.4%, Avg loss: 0.830967 \n",
      "Epoch 47 | Accuracy: 88.5%, Avg loss: 0.770374 \n",
      "Epoch 48 | Accuracy: 88.5%, Avg loss: 0.796987 \n",
      "Epoch 49 | Accuracy: 88.3%, Avg loss: 0.874785 \n",
      "Epoch 50 | Accuracy: 88.4%, Avg loss: 0.838351 \n"
     ]
    }
   ],
   "source": [
    "test_losses = []\n",
    "\n",
    "for optimizer_entry in log_progress(OPTIMIZERS, name='Оптимизаторы'):\n",
    "    #print(f'===============================\\nOptimizer: {optimizer_entry['name']}\\n===============================\\n')\n",
    "\n",
    "    model = NeuralNetwork()\n",
    "    optimizer = optimizer_entry['optimizer'](model.parameters(), lr=LEARNING_RATE, **optimizer_entry['parameters'])\n",
    "\n",
    "    test_losses.append(run_training(device, train_dataloader, test_dataloader, model, loss_fn, optimizer, epochs=EPOCHS, batch_size=BATCH_SIZE, name=optimizer_entry['name']))"
   ]
  },
  {
   "cell_type": "markdown",
   "id": "fa6b35d1",
   "metadata": {},
   "source": [
    "##### Строим графики"
   ]
  },
  {
   "cell_type": "code",
   "execution_count": 72,
   "id": "4bd37f99",
   "metadata": {},
   "outputs": [
    {
     "data": {
      "image/png": "[encoded data removed]",
      "text/plain": [
       "<Figure size 640x480 with 1 Axes>"
      ]
     },
     "metadata": {},
     "output_type": "display_data"
    }
   ],
   "source": [
    "for optimizer_entry, test_loss in zip(OPTIMIZERS, test_losses):\n",
    "    plt.plot(range(1, EPOCHS + 1), test_loss, label=optimizer_entry['name'])\n",
    "\n",
    "plt.xlabel('Эпоха')\n",
    "plt.ylabel('Значение функции потерь')\n",
    "plt.title('Графики сходимости оптимизационных методов')\n",
    "\n",
    "plt.grid(True)\n",
    "plt.legend()\n",
    "plt.show()"
   ]
  },
  {
   "cell_type": "markdown",
   "id": "99e437cc",
   "metadata": {},
   "source": [
    "##### Выводы"
   ]
  },
  {
   "cell_type": "markdown",
   "id": "4abf69f1",
   "metadata": {},
   "source": [
    "- SGD: обеспечивает постепенное стабильное снижение функции потерь;\n",
    "- RMSprop: быстро достигает низкой функции потерь, однако затем значение функции потерь начинает колебаться и постпенно расти;\n",
    "- Adam: так же как и RMSprop - быстро достигает низкой функции потерь, затем начинает колебаться и постепенно расти, однако опять же слабее, чем RMSprop;\n",
    "\n",
    "В итоге SGD обеспечивает медленную, но стабильную сходимость, в то время Adam и RMSprop обеспечивают быструю сходимость с последующим ростом и нестабильность функции потерь.\n",
    "При этом у Adam большая сходимость, чем у RMSprop."
   ]
  }
 ],
 "metadata": {
  "kernelspec": {
   "display_name": "Python 3 (ipykernel)",
   "language": "python",
   "name": "python3"
  },
  "language_info": {
   "codemirror_mode": {
    "name": "ipython",
    "version": 3
   },
   "file_extension": ".py",
   "mimetype": "text/x-python",
   "name": "python",
   "nbconvert_exporter": "python",
   "pygments_lexer": "ipython3",
   "version": "3.12.1"
  }
 },
 "nbformat": 4,
 "nbformat_minor": 5
}
