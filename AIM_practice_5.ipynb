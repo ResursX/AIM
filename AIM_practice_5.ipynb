{
 "cells": [
  {
   "cell_type": "markdown",
   "id": "d44bb162",
   "metadata": {},
   "source": [
    "## Задание"
   ]
  },
  {
   "cell_type": "markdown",
   "id": "ecfebd49",
   "metadata": {},
   "source": [
    "#### 1. Линейная регрессия\n",
    "1. Разработать модель линейной регрессии, учитывающей все (в примере), 2, 3 столбца входных переменных.\n",
    "2. Рассчитать MSE.\n",
    "3. Вывести значения коэффициентов модели."
   ]
  },
  {
   "cell_type": "markdown",
   "id": "50bfd2c6",
   "metadata": {},
   "source": [
    "#### 2. [Полиномиальная регрессия](https://scikit-learn.org/stable/modules/generated/sklearn.preprocessing.PolynomialFeatures.html)\n",
    "1. Разработать модель линейной регрессии, базисные функции - полином от исходных значений.\n",
    "2. Найти зависимость MSE от максимальной степени полинома. (max_pow <= 10)"
   ]
  },
  {
   "cell_type": "markdown",
   "id": "598d77e3",
   "metadata": {},
   "source": [
    "#### 3. [Гребневая регрессия (Ridge)](https://scikit-learn.org/stable/modules/generated/sklearn.linear_model.Ridge.html)\n",
    "1. Выбрать оптимальную степень полинома.\n",
    "2. Построить график зависимости максимального модуля параметров, MSE от величины alpha."
   ]
  },
  {
   "cell_type": "markdown",
   "id": "7dc231fd",
   "metadata": {},
   "source": [
    "#### 4. [Лассо](https://scikit-learn.org/stable/modules/generated/sklearn.linear_model.Lasso.html)\n",
    "1. Выбрать оптимальную степень полинома.\n",
    "2. Построить график зависимости максимального модуля параметров, MSE от величины alpha.\n",
    "\n"
   ]
  },
  {
   "cell_type": "markdown",
   "metadata": {},
   "source": [
    "#### 5. [SVR](https://scikit-learn.org/stable/modules/generated/sklearn.svm.SVR.html#sklearn.svm.SVR)\n",
    "1. Исследовать точность модели регрессии при применении ядерных функций 'poly', 'sigmoid'\n",
    "2. Реализовать модель SVR, учитывающую все характеристики исходных данных, выбрать модель с оптимальными параметрами."
   ]
  },
  {
   "cell_type": "markdown",
   "id": "6327f96e",
   "metadata": {},
   "source": [
    "## Решение"
   ]
  },
  {
   "cell_type": "markdown",
   "id": "7136d8e2",
   "metadata": {},
   "source": [
    "### Импорт"
   ]
  },
  {
   "cell_type": "code",
   "execution_count": 73,
   "id": "f64b1d06",
   "metadata": {},
   "outputs": [],
   "source": [
    "import numpy as np\n",
    "import pandas as pd\n",
    "\n",
    "import matplotlib.pyplot as plt\n",
    "\n",
    "import seaborn as sns\n",
    "\n",
    "from sklearn.base import BaseEstimator\n",
    "from sklearn.linear_model import LinearRegression, Ridge, Lasso\n",
    "from sklearn.svm import SVR\n",
    "from sklearn.preprocessing import MaxAbsScaler, PolynomialFeatures\n",
    "from sklearn.model_selection import ParameterGrid, GridSearchCV, train_test_split\n",
    "from sklearn.pipeline import Pipeline\n",
    "from sklearn.metrics import mean_squared_error\n",
    "\n",
    "import os"
   ]
  },
  {
   "cell_type": "markdown",
   "id": "04b53a7f",
   "metadata": {},
   "source": [
    "### Настройки"
   ]
  },
  {
   "cell_type": "code",
   "execution_count": 74,
   "id": "23a290ab",
   "metadata": {},
   "outputs": [],
   "source": [
    "RANDOM_STATE = 42\n",
    "\n",
    "# Папка лабораторной\n",
    "DIR_LAB = 'Lab5'\n",
    "\n",
    "# Папка для загруженных данных\n",
    "DIR_DATA = 'data'\n",
    "\n",
    "# Файл с данными\n",
    "FILE_DATA = 'Advertising.csv'"
   ]
  },
  {
   "cell_type": "code",
   "execution_count": 75,
   "id": "13459509",
   "metadata": {},
   "outputs": [],
   "source": [
    "PATH_DATA = os.path.join(DIR_LAB, DIR_DATA, FILE_DATA)"
   ]
  },
  {
   "cell_type": "markdown",
   "id": "86a854a6",
   "metadata": {},
   "source": [
    "### Функции"
   ]
  },
  {
   "cell_type": "markdown",
   "id": "c285fb97",
   "metadata": {},
   "source": [
    "##### Функция тестирования"
   ]
  },
  {
   "cell_type": "code",
   "execution_count": 76,
   "id": "3168114a",
   "metadata": {},
   "outputs": [],
   "source": [
    "def tests_results_former(pipeline, score, **params):\n",
    "    return score\n",
    "\n",
    "def run_tests(pipeline, params_grid, X_train, X_test, y_train, y_test, results_former=tests_results_former):\n",
    "    results = []\n",
    "\n",
    "    for params in params_grid:\n",
    "        pipeline.set_params(**params)\n",
    "\n",
    "        pipeline.fit(X_train, y_train)\n",
    "        y_pred = pipeline.predict(X_test)\n",
    "\n",
    "        score = mean_squared_error(y_test, y_pred)\n",
    "\n",
    "        results.append(results_former(pipeline, score, **params))\n",
    "\n",
    "    return results"
   ]
  },
  {
   "cell_type": "code",
   "execution_count": 77,
   "id": "266d3e21",
   "metadata": {},
   "outputs": [],
   "source": [
    "def run_tests_select(pipeline, params_grid_select, params_grid, X_train, X_test, y_train, y_test, results_former=tests_results_former):\n",
    "    best_results = []\n",
    "    best_params = None\n",
    "    best_score = float('inf')\n",
    "\n",
    "    for params_select in params_grid_select:\n",
    "        pipeline.set_params(**params_select)\n",
    "\n",
    "        results = []\n",
    "        scores = []\n",
    "\n",
    "        for params in params_grid:\n",
    "            pipeline.set_params(**params)\n",
    "\n",
    "            pipeline.fit(X_train, y_train)\n",
    "            y_pred = pipeline.predict(X_test)\n",
    "\n",
    "            score = mean_squared_error(y_test, y_pred)\n",
    "\n",
    "            results.append(results_former(pipeline, score, **params, **params_select))\n",
    "            scores.append(score)\n",
    "\n",
    "        mean_score = np.mean(scores)\n",
    "\n",
    "        if (mean_score < best_score):\n",
    "            best_results = results\n",
    "            best_params = params_select\n",
    "            best_score = mean_score\n",
    "\n",
    "    return best_params, best_score, best_results"
   ]
  },
  {
   "cell_type": "code",
   "execution_count": 78,
   "id": "a37392fb",
   "metadata": {},
   "outputs": [],
   "source": [
    "def run_tests_optimize(pipeline, params_grid, params_grid_optimize, X_train, X_test, y_train, y_test, results_former=tests_results_former):\n",
    "    results = []\n",
    "    \n",
    "    best_params = None\n",
    "    best_score = float('inf')\n",
    "\n",
    "    for params in params_grid:\n",
    "        pipeline.set_params(**params)\n",
    "\n",
    "        grid_search = GridSearchCV(pipeline, params_grid_optimize, scoring='neg_mean_squared_error')\n",
    "        grid_search.fit(X_train, y_train)\n",
    "\n",
    "        pipeline.set_params(**grid_search.best_params_)\n",
    "\n",
    "        pipeline.fit(X_train, y_train)\n",
    "        y_pred = pipeline.predict(X_test)\n",
    "\n",
    "        score = mean_squared_error(y_test, y_pred)\n",
    "\n",
    "        results.append(results_former(pipeline, score, **params, **grid_search.best_params_))\n",
    "\n",
    "        if (score < best_score):\n",
    "            best_params = {**params, **grid_search.best_params_}\n",
    "            best_score = score\n",
    "\n",
    "    return best_params, best_score, results"
   ]
  },
  {
   "cell_type": "markdown",
   "id": "10ea3202",
   "metadata": {},
   "source": [
    "##### Извлечение столбцов"
   ]
  },
  {
   "cell_type": "code",
   "execution_count": 79,
   "id": "855addc5",
   "metadata": {},
   "outputs": [],
   "source": [
    "class ColumnExtractor(BaseEstimator):\n",
    "    def __init__(self, columns=np.array([0])):\n",
    "        self.columns = columns\n",
    "\n",
    "    def transform(self, X):\n",
    "        cols = X[:, self.columns]\n",
    "        return cols\n",
    "\n",
    "    def fit(self, X, y=None):\n",
    "        return self"
   ]
  },
  {
   "cell_type": "markdown",
   "id": "5bffb69e",
   "metadata": {},
   "source": [
    "### Загрузка данных"
   ]
  },
  {
   "cell_type": "code",
   "execution_count": 80,
   "id": "2a3d52e8",
   "metadata": {},
   "outputs": [
    {
     "data": {
      "text/html": [
       "<div>\n",
       "<style scoped>\n",
       "    .dataframe tbody tr th:only-of-type {\n",
       "        vertical-align: middle;\n",
       "    }\n",
       "\n",
       "    .dataframe tbody tr th {\n",
       "        vertical-align: top;\n",
       "    }\n",
       "\n",
       "    .dataframe thead th {\n",
       "        text-align: right;\n",
       "    }\n",
       "</style>\n",
       "<table border=\"1\" class=\"dataframe\">\n",
       "  <thead>\n",
       "    <tr style=\"text-align: right;\">\n",
       "      <th></th>\n",
       "      <th>TV</th>\n",
       "      <th>radio</th>\n",
       "      <th>newspaper</th>\n",
       "      <th>sales</th>\n",
       "    </tr>\n",
       "  </thead>\n",
       "  <tbody>\n",
       "    <tr>\n",
       "      <th>1</th>\n",
       "      <td>230.1</td>\n",
       "      <td>37.8</td>\n",
       "      <td>69.2</td>\n",
       "      <td>22.1</td>\n",
       "    </tr>\n",
       "    <tr>\n",
       "      <th>2</th>\n",
       "      <td>44.5</td>\n",
       "      <td>39.3</td>\n",
       "      <td>45.1</td>\n",
       "      <td>10.4</td>\n",
       "    </tr>\n",
       "    <tr>\n",
       "      <th>3</th>\n",
       "      <td>17.2</td>\n",
       "      <td>45.9</td>\n",
       "      <td>69.3</td>\n",
       "      <td>9.3</td>\n",
       "    </tr>\n",
       "    <tr>\n",
       "      <th>4</th>\n",
       "      <td>151.5</td>\n",
       "      <td>41.3</td>\n",
       "      <td>58.5</td>\n",
       "      <td>18.5</td>\n",
       "    </tr>\n",
       "    <tr>\n",
       "      <th>5</th>\n",
       "      <td>180.8</td>\n",
       "      <td>10.8</td>\n",
       "      <td>58.4</td>\n",
       "      <td>12.9</td>\n",
       "    </tr>\n",
       "  </tbody>\n",
       "</table>\n",
       "</div>"
      ],
      "text/plain": [
       "      TV  radio  newspaper  sales\n",
       "1  230.1   37.8       69.2   22.1\n",
       "2   44.5   39.3       45.1   10.4\n",
       "3   17.2   45.9       69.3    9.3\n",
       "4  151.5   41.3       58.5   18.5\n",
       "5  180.8   10.8       58.4   12.9"
      ]
     },
     "execution_count": 80,
     "metadata": {},
     "output_type": "execute_result"
    }
   ],
   "source": [
    "df_data = pd.read_csv(PATH_DATA, index_col='Unnamed: 0')\n",
    "df_data.head()"
   ]
  },
  {
   "cell_type": "code",
   "execution_count": 81,
   "id": "8e4193d1",
   "metadata": {},
   "outputs": [
    {
     "data": {
      "text/plain": [
       "<Axes: >"
      ]
     },
     "execution_count": 81,
     "metadata": {},
     "output_type": "execute_result"
    },
    {
     "data": {
      "image/png": "[encoded data removed]",
      "text/plain": [
       "<Figure size 640x480 with 2 Axes>"
      ]
     },
     "metadata": {},
     "output_type": "display_data"
    }
   ],
   "source": [
    "sns.heatmap(df_data.corr(),annot=True)"
   ]
  },
  {
   "cell_type": "code",
   "execution_count": 82,
   "id": "3a417e28",
   "metadata": {},
   "outputs": [],
   "source": [
    "X = df_data[['TV', 'radio', 'newspaper']].to_numpy()\n",
    "y = df_data['sales'].to_numpy()"
   ]
  },
  {
   "cell_type": "code",
   "execution_count": 83,
   "id": "c8337741",
   "metadata": {},
   "outputs": [],
   "source": [
    "X_train, X_test, y_train, y_test = train_test_split(X, y, test_size=0.25, random_state=RANDOM_STATE)"
   ]
  },
  {
   "cell_type": "markdown",
   "id": "4f78872d",
   "metadata": {},
   "source": [
    "### 1. Линейная регрессия"
   ]
  },
  {
   "cell_type": "code",
   "execution_count": 84,
   "id": "ec39755b",
   "metadata": {},
   "outputs": [],
   "source": [
    "def linear_results_former(pipeline, score, **params):\n",
    "    return (len(params['columns__columns']), ' '.join([f'{coef:.10f}' for coef in pipeline['linear'].coef_]), pipeline['linear'].intercept_, score)"
   ]
  },
  {
   "cell_type": "code",
   "execution_count": 85,
   "id": "35d59e50",
   "metadata": {},
   "outputs": [],
   "source": [
    "linear_pipeline = Pipeline([('scaler', MaxAbsScaler()), ('columns', ColumnExtractor()), ('linear', LinearRegression())])\n",
    "\n",
    "linear_params = ParameterGrid({'columns__columns': [np.arange(0, i + 1) for i in range(3)]})\n",
    "\n",
    "linear_results = run_tests(linear_pipeline, linear_params, X_train, X_test, y_train, y_test, results_former=linear_results_former)"
   ]
  },
  {
   "cell_type": "code",
   "execution_count": 86,
   "id": "20e6f2a1",
   "metadata": {},
   "outputs": [
    {
     "data": {
      "text/html": [
       "<div>\n",
       "<style scoped>\n",
       "    .dataframe tbody tr th:only-of-type {\n",
       "        vertical-align: middle;\n",
       "    }\n",
       "\n",
       "    .dataframe tbody tr th {\n",
       "        vertical-align: top;\n",
       "    }\n",
       "\n",
       "    .dataframe thead th {\n",
       "        text-align: right;\n",
       "    }\n",
       "</style>\n",
       "<table border=\"1\" class=\"dataframe\">\n",
       "  <thead>\n",
       "    <tr style=\"text-align: right;\">\n",
       "      <th></th>\n",
       "      <th>Количество параметров</th>\n",
       "      <th>Коэффициенты</th>\n",
       "      <th>Перехват</th>\n",
       "      <th>MSE</th>\n",
       "    </tr>\n",
       "  </thead>\n",
       "  <tbody>\n",
       "    <tr>\n",
       "      <th>0</th>\n",
       "      <td>1</td>\n",
       "      <td>13.8995166792</td>\n",
       "      <td>7.131785</td>\n",
       "      <td>9.179299</td>\n",
       "    </tr>\n",
       "    <tr>\n",
       "      <th>1</th>\n",
       "      <td>2</td>\n",
       "      <td>13.4663890192 9.5639278285</td>\n",
       "      <td>2.824519</td>\n",
       "      <td>2.853995</td>\n",
       "    </tr>\n",
       "    <tr>\n",
       "      <th>2</th>\n",
       "      <td>3</td>\n",
       "      <td>13.4665067763 9.4962441666 0.2591203633</td>\n",
       "      <td>2.778303</td>\n",
       "      <td>2.880024</td>\n",
       "    </tr>\n",
       "  </tbody>\n",
       "</table>\n",
       "</div>"
      ],
      "text/plain": [
       "   Количество параметров                             Коэффициенты  Перехват  \\\n",
       "0                      1                            13.8995166792  7.131785   \n",
       "1                      2               13.4663890192 9.5639278285  2.824519   \n",
       "2                      3  13.4665067763 9.4962441666 0.2591203633  2.778303   \n",
       "\n",
       "        MSE  \n",
       "0  9.179299  \n",
       "1  2.853995  \n",
       "2  2.880024  "
      ]
     },
     "execution_count": 86,
     "metadata": {},
     "output_type": "execute_result"
    }
   ],
   "source": [
    "df_linear_results = pd.DataFrame(linear_results, columns=['Количество параметров', 'Коэффициенты', 'Перехват', 'MSE'])\n",
    "\n",
    "df_linear_results"
   ]
  },
  {
   "cell_type": "code",
   "execution_count": 87,
   "id": "760c4860",
   "metadata": {},
   "outputs": [
    {
     "data": {
      "image/png": "[encoded data removed]",
      "text/plain": [
       "<Figure size 640x480 with 1 Axes>"
      ]
     },
     "metadata": {},
     "output_type": "display_data"
    }
   ],
   "source": [
    "plt.plot(df_linear_results['Количество параметров'], df_linear_results['MSE'], marker='o')\n",
    "plt.xlabel('Количество параметров')\n",
    "plt.ylabel('MSE')\n",
    "plt.title('Зависимость MSE от кол-во параметров')\n",
    "plt.show()"
   ]
  },
  {
   "cell_type": "markdown",
   "id": "bb688e78",
   "metadata": {},
   "source": [
    "### 2. Полиномиальная регрессия"
   ]
  },
  {
   "cell_type": "code",
   "execution_count": 88,
   "id": "789682ba",
   "metadata": {},
   "outputs": [],
   "source": [
    "def poly_results_former(pipeline, score, **params):\n",
    "    return (params['poly__degree'], score)"
   ]
  },
  {
   "cell_type": "code",
   "execution_count": 89,
   "id": "8bbcd809",
   "metadata": {},
   "outputs": [],
   "source": [
    "poly_pipeline = Pipeline([('scaler', MaxAbsScaler()), ('poly', PolynomialFeatures()), ('linear', LinearRegression())])\n",
    "\n",
    "poly_params = ParameterGrid({'poly__degree': np.arange(1, 10 + 1)})\n",
    "\n",
    "poly_results = run_tests(poly_pipeline, poly_params, X_train, X_test, y_train, y_test, results_former=poly_results_former)"
   ]
  },
  {
   "cell_type": "code",
   "execution_count": 90,
   "id": "e2900ba9",
   "metadata": {},
   "outputs": [
    {
     "data": {
      "text/html": [
       "<div>\n",
       "<style scoped>\n",
       "    .dataframe tbody tr th:only-of-type {\n",
       "        vertical-align: middle;\n",
       "    }\n",
       "\n",
       "    .dataframe tbody tr th {\n",
       "        vertical-align: top;\n",
       "    }\n",
       "\n",
       "    .dataframe thead th {\n",
       "        text-align: right;\n",
       "    }\n",
       "</style>\n",
       "<table border=\"1\" class=\"dataframe\">\n",
       "  <thead>\n",
       "    <tr style=\"text-align: right;\">\n",
       "      <th></th>\n",
       "      <th>Степень полинома</th>\n",
       "      <th>MSE</th>\n",
       "    </tr>\n",
       "  </thead>\n",
       "  <tbody>\n",
       "    <tr>\n",
       "      <th>0</th>\n",
       "      <td>1</td>\n",
       "      <td>2.880024e+00</td>\n",
       "    </tr>\n",
       "    <tr>\n",
       "      <th>1</th>\n",
       "      <td>2</td>\n",
       "      <td>3.910578e-01</td>\n",
       "    </tr>\n",
       "    <tr>\n",
       "      <th>2</th>\n",
       "      <td>3</td>\n",
       "      <td>2.457018e-01</td>\n",
       "    </tr>\n",
       "    <tr>\n",
       "      <th>3</th>\n",
       "      <td>4</td>\n",
       "      <td>2.778726e-01</td>\n",
       "    </tr>\n",
       "    <tr>\n",
       "      <th>4</th>\n",
       "      <td>5</td>\n",
       "      <td>7.819255e+01</td>\n",
       "    </tr>\n",
       "    <tr>\n",
       "      <th>5</th>\n",
       "      <td>6</td>\n",
       "      <td>3.280100e+02</td>\n",
       "    </tr>\n",
       "    <tr>\n",
       "      <th>6</th>\n",
       "      <td>7</td>\n",
       "      <td>1.199494e+05</td>\n",
       "    </tr>\n",
       "    <tr>\n",
       "      <th>7</th>\n",
       "      <td>8</td>\n",
       "      <td>2.644808e+06</td>\n",
       "    </tr>\n",
       "    <tr>\n",
       "      <th>8</th>\n",
       "      <td>9</td>\n",
       "      <td>2.985741e+06</td>\n",
       "    </tr>\n",
       "    <tr>\n",
       "      <th>9</th>\n",
       "      <td>10</td>\n",
       "      <td>5.608481e+06</td>\n",
       "    </tr>\n",
       "  </tbody>\n",
       "</table>\n",
       "</div>"
      ],
      "text/plain": [
       "   Степень полинома           MSE\n",
       "0                 1  2.880024e+00\n",
       "1                 2  3.910578e-01\n",
       "2                 3  2.457018e-01\n",
       "3                 4  2.778726e-01\n",
       "4                 5  7.819255e+01\n",
       "5                 6  3.280100e+02\n",
       "6                 7  1.199494e+05\n",
       "7                 8  2.644808e+06\n",
       "8                 9  2.985741e+06\n",
       "9                10  5.608481e+06"
      ]
     },
     "execution_count": 90,
     "metadata": {},
     "output_type": "execute_result"
    }
   ],
   "source": [
    "df_poly_results = pd.DataFrame(poly_results, columns=['Степень полинома', 'MSE'])\n",
    "\n",
    "df_poly_results"
   ]
  },
  {
   "cell_type": "code",
   "execution_count": 91,
   "id": "a8806ebf",
   "metadata": {},
   "outputs": [
    {
     "data": {
      "image/png": "[encoded data removed]",
      "text/plain": [
       "<Figure size 640x480 with 1 Axes>"
      ]
     },
     "metadata": {},
     "output_type": "display_data"
    }
   ],
   "source": [
    "plt.plot(df_poly_results['Степень полинома'], df_poly_results['MSE'], marker='o')\n",
    "plt.xlabel('Степень полинома')\n",
    "plt.ylabel('MSE')\n",
    "plt.title('Зависимость MSE от степени полинома')\n",
    "plt.show()"
   ]
  },
  {
   "cell_type": "markdown",
   "id": "ff50fe6e",
   "metadata": {},
   "source": [
    "### 3. Гребневая регрессия"
   ]
  },
  {
   "cell_type": "code",
   "execution_count": 92,
   "id": "3b2aa7b8",
   "metadata": {},
   "outputs": [],
   "source": [
    "def ridge_results_former(pipeline, score, **params):\n",
    "    return (params['ridge__alpha'], np.max(np.abs(pipeline['ridge'].coef_)), score)"
   ]
  },
  {
   "cell_type": "code",
   "execution_count": 93,
   "id": "4cb757a9",
   "metadata": {},
   "outputs": [],
   "source": [
    "ridge_pipeline = Pipeline([('scaler', MaxAbsScaler()), ('poly', PolynomialFeatures()), ('ridge', Ridge())])\n",
    "\n",
    "ridge_select_params = ParameterGrid({'poly__degree': np.arange(1, 10 + 1)})\n",
    "\n",
    "ridge_params = ParameterGrid({'ridge__alpha': np.logspace(-4, 4, 50)})\n",
    "\n",
    "ridge_selected, ridge_selected_mean_score, ridge_results = run_tests_select(ridge_pipeline, ridge_select_params, ridge_params, X_train, X_test, y_train, y_test, results_former=ridge_results_former)"
   ]
  },
  {
   "cell_type": "code",
   "execution_count": 94,
   "id": "20c79c23",
   "metadata": {},
   "outputs": [
    {
     "name": "stdout",
     "output_type": "stream",
     "text": [
      "Оптимальная степень полинома: 6\n",
      "Среднее MSE: 6.56721\n"
     ]
    }
   ],
   "source": [
    "print(f'Оптимальная степень полинома: {ridge_selected['poly__degree']}\\nСреднее MSE: {ridge_selected_mean_score:.5f}')"
   ]
  },
  {
   "cell_type": "code",
   "execution_count": 95,
   "id": "5995ef48",
   "metadata": {},
   "outputs": [],
   "source": [
    "df_ridge_results = pd.DataFrame(ridge_results, columns=['Alpha', 'Максимальный модуль параметров', 'MSE'])"
   ]
  },
  {
   "cell_type": "code",
   "execution_count": 96,
   "id": "861f28d4",
   "metadata": {},
   "outputs": [
    {
     "data": {
      "image/png": "[encoded data removed]",
      "text/plain": [
       "<Figure size 640x480 with 1 Axes>"
      ]
     },
     "metadata": {},
     "output_type": "display_data"
    }
   ],
   "source": [
    "plt.plot(df_ridge_results['Alpha'], df_ridge_results['MSE'], label='MSE')\n",
    "plt.plot(df_ridge_results['Alpha'], df_ridge_results['Максимальный модуль параметров'], label='Максимальный модуль параметров')\n",
    "plt.xscale('log')\n",
    "plt.xlabel('Alpha')\n",
    "plt.ylabel('Значение')\n",
    "plt.title('Ridge: MSE и максимальный модуль параметров')\n",
    "plt.legend()\n",
    "plt.show()"
   ]
  },
  {
   "cell_type": "markdown",
   "id": "409d2b72",
   "metadata": {},
   "source": [
    "### 4. Лассо"
   ]
  },
  {
   "cell_type": "code",
   "execution_count": 97,
   "id": "c41bed63",
   "metadata": {},
   "outputs": [],
   "source": [
    "def lasso_results_former(pipeline, score, **params):\n",
    "    return (params['lasso__alpha'], np.max(np.abs(pipeline['lasso'].coef_)), score)"
   ]
  },
  {
   "cell_type": "code",
   "execution_count": 98,
   "id": "bc481b76",
   "metadata": {},
   "outputs": [
    {
     "name": "stderr",
     "output_type": "stream",
     "text": [
      "C:\\Users\\USER\\AppData\\Roaming\\Python\\Python312\\site-packages\\sklearn\\linear_model\\_coordinate_descent.py:678: ConvergenceWarning: Objective did not converge. You might want to increase the number of iterations, check the scale of the features or consider increasing regularisation. Duality gap: 1.503e+01, tolerance: 4.017e-01\n",
      "  model = cd_fast.enet_coordinate_descent(\n",
      "C:\\Users\\USER\\AppData\\Roaming\\Python\\Python312\\site-packages\\sklearn\\linear_model\\_coordinate_descent.py:678: ConvergenceWarning: Objective did not converge. You might want to increase the number of iterations, check the scale of the features or consider increasing regularisation. Duality gap: 1.410e+01, tolerance: 4.017e-01\n",
      "  model = cd_fast.enet_coordinate_descent(\n",
      "C:\\Users\\USER\\AppData\\Roaming\\Python\\Python312\\site-packages\\sklearn\\linear_model\\_coordinate_descent.py:678: ConvergenceWarning: Objective did not converge. You might want to increase the number of iterations, check the scale of the features or consider increasing regularisation. Duality gap: 1.265e+01, tolerance: 4.017e-01\n",
      "  model = cd_fast.enet_coordinate_descent(\n",
      "C:\\Users\\USER\\AppData\\Roaming\\Python\\Python312\\site-packages\\sklearn\\linear_model\\_coordinate_descent.py:678: ConvergenceWarning: Objective did not converge. You might want to increase the number of iterations, check the scale of the features or consider increasing regularisation. Duality gap: 1.019e+01, tolerance: 4.017e-01\n",
      "  model = cd_fast.enet_coordinate_descent(\n",
      "C:\\Users\\USER\\AppData\\Roaming\\Python\\Python312\\site-packages\\sklearn\\linear_model\\_coordinate_descent.py:678: ConvergenceWarning: Objective did not converge. You might want to increase the number of iterations, check the scale of the features or consider increasing regularisation. Duality gap: 7.708e+00, tolerance: 4.017e-01\n",
      "  model = cd_fast.enet_coordinate_descent(\n",
      "C:\\Users\\USER\\AppData\\Roaming\\Python\\Python312\\site-packages\\sklearn\\linear_model\\_coordinate_descent.py:678: ConvergenceWarning: Objective did not converge. You might want to increase the number of iterations, check the scale of the features or consider increasing regularisation. Duality gap: 5.386e+00, tolerance: 4.017e-01\n",
      "  model = cd_fast.enet_coordinate_descent(\n",
      "C:\\Users\\USER\\AppData\\Roaming\\Python\\Python312\\site-packages\\sklearn\\linear_model\\_coordinate_descent.py:678: ConvergenceWarning: Objective did not converge. You might want to increase the number of iterations, check the scale of the features or consider increasing regularisation. Duality gap: 3.456e+00, tolerance: 4.017e-01\n",
      "  model = cd_fast.enet_coordinate_descent(\n",
      "C:\\Users\\USER\\AppData\\Roaming\\Python\\Python312\\site-packages\\sklearn\\linear_model\\_coordinate_descent.py:678: ConvergenceWarning: Objective did not converge. You might want to increase the number of iterations, check the scale of the features or consider increasing regularisation. Duality gap: 8.473e-01, tolerance: 4.017e-01\n",
      "  model = cd_fast.enet_coordinate_descent(\n",
      "C:\\Users\\USER\\AppData\\Roaming\\Python\\Python312\\site-packages\\sklearn\\linear_model\\_coordinate_descent.py:678: ConvergenceWarning: Objective did not converge. You might want to increase the number of iterations, check the scale of the features or consider increasing regularisation. Duality gap: 4.678e-01, tolerance: 4.017e-01\n",
      "  model = cd_fast.enet_coordinate_descent(\n",
      "C:\\Users\\USER\\AppData\\Roaming\\Python\\Python312\\site-packages\\sklearn\\linear_model\\_coordinate_descent.py:678: ConvergenceWarning: Objective did not converge. You might want to increase the number of iterations, check the scale of the features or consider increasing regularisation. Duality gap: 1.079e+01, tolerance: 4.017e-01\n",
      "  model = cd_fast.enet_coordinate_descent(\n",
      "C:\\Users\\USER\\AppData\\Roaming\\Python\\Python312\\site-packages\\sklearn\\linear_model\\_coordinate_descent.py:678: ConvergenceWarning: Objective did not converge. You might want to increase the number of iterations, check the scale of the features or consider increasing regularisation. Duality gap: 8.297e+00, tolerance: 4.017e-01\n",
      "  model = cd_fast.enet_coordinate_descent(\n",
      "C:\\Users\\USER\\AppData\\Roaming\\Python\\Python312\\site-packages\\sklearn\\linear_model\\_coordinate_descent.py:678: ConvergenceWarning: Objective did not converge. You might want to increase the number of iterations, check the scale of the features or consider increasing regularisation. Duality gap: 4.844e+00, tolerance: 4.017e-01\n",
      "  model = cd_fast.enet_coordinate_descent(\n",
      "C:\\Users\\USER\\AppData\\Roaming\\Python\\Python312\\site-packages\\sklearn\\linear_model\\_coordinate_descent.py:678: ConvergenceWarning: Objective did not converge. You might want to increase the number of iterations, check the scale of the features or consider increasing regularisation. Duality gap: 2.212e+00, tolerance: 4.017e-01\n",
      "  model = cd_fast.enet_coordinate_descent(\n",
      "C:\\Users\\USER\\AppData\\Roaming\\Python\\Python312\\site-packages\\sklearn\\linear_model\\_coordinate_descent.py:678: ConvergenceWarning: Objective did not converge. You might want to increase the number of iterations, check the scale of the features or consider increasing regularisation. Duality gap: 4.644e-01, tolerance: 4.017e-01\n",
      "  model = cd_fast.enet_coordinate_descent(\n",
      "C:\\Users\\USER\\AppData\\Roaming\\Python\\Python312\\site-packages\\sklearn\\linear_model\\_coordinate_descent.py:678: ConvergenceWarning: Objective did not converge. You might want to increase the number of iterations, check the scale of the features or consider increasing regularisation. Duality gap: 1.324e+01, tolerance: 4.017e-01\n",
      "  model = cd_fast.enet_coordinate_descent(\n",
      "C:\\Users\\USER\\AppData\\Roaming\\Python\\Python312\\site-packages\\sklearn\\linear_model\\_coordinate_descent.py:678: ConvergenceWarning: Objective did not converge. You might want to increase the number of iterations, check the scale of the features or consider increasing regularisation. Duality gap: 1.124e+01, tolerance: 4.017e-01\n",
      "  model = cd_fast.enet_coordinate_descent(\n",
      "C:\\Users\\USER\\AppData\\Roaming\\Python\\Python312\\site-packages\\sklearn\\linear_model\\_coordinate_descent.py:678: ConvergenceWarning: Objective did not converge. You might want to increase the number of iterations, check the scale of the features or consider increasing regularisation. Duality gap: 8.282e+00, tolerance: 4.017e-01\n",
      "  model = cd_fast.enet_coordinate_descent(\n",
      "C:\\Users\\USER\\AppData\\Roaming\\Python\\Python312\\site-packages\\sklearn\\linear_model\\_coordinate_descent.py:678: ConvergenceWarning: Objective did not converge. You might want to increase the number of iterations, check the scale of the features or consider increasing regularisation. Duality gap: 6.778e+00, tolerance: 4.017e-01\n",
      "  model = cd_fast.enet_coordinate_descent(\n",
      "C:\\Users\\USER\\AppData\\Roaming\\Python\\Python312\\site-packages\\sklearn\\linear_model\\_coordinate_descent.py:678: ConvergenceWarning: Objective did not converge. You might want to increase the number of iterations, check the scale of the features or consider increasing regularisation. Duality gap: 5.810e+00, tolerance: 4.017e-01\n",
      "  model = cd_fast.enet_coordinate_descent(\n",
      "C:\\Users\\USER\\AppData\\Roaming\\Python\\Python312\\site-packages\\sklearn\\linear_model\\_coordinate_descent.py:678: ConvergenceWarning: Objective did not converge. You might want to increase the number of iterations, check the scale of the features or consider increasing regularisation. Duality gap: 2.736e+00, tolerance: 4.017e-01\n",
      "  model = cd_fast.enet_coordinate_descent(\n",
      "C:\\Users\\USER\\AppData\\Roaming\\Python\\Python312\\site-packages\\sklearn\\linear_model\\_coordinate_descent.py:678: ConvergenceWarning: Objective did not converge. You might want to increase the number of iterations, check the scale of the features or consider increasing regularisation. Duality gap: 4.291e-01, tolerance: 4.017e-01\n",
      "  model = cd_fast.enet_coordinate_descent(\n",
      "C:\\Users\\USER\\AppData\\Roaming\\Python\\Python312\\site-packages\\sklearn\\linear_model\\_coordinate_descent.py:678: ConvergenceWarning: Objective did not converge. You might want to increase the number of iterations, check the scale of the features or consider increasing regularisation. Duality gap: 4.639e-01, tolerance: 4.017e-01\n",
      "  model = cd_fast.enet_coordinate_descent(\n",
      "C:\\Users\\USER\\AppData\\Roaming\\Python\\Python312\\site-packages\\sklearn\\linear_model\\_coordinate_descent.py:678: ConvergenceWarning: Objective did not converge. You might want to increase the number of iterations, check the scale of the features or consider increasing regularisation. Duality gap: 1.507e+01, tolerance: 4.017e-01\n",
      "  model = cd_fast.enet_coordinate_descent(\n",
      "C:\\Users\\USER\\AppData\\Roaming\\Python\\Python312\\site-packages\\sklearn\\linear_model\\_coordinate_descent.py:678: ConvergenceWarning: Objective did not converge. You might want to increase the number of iterations, check the scale of the features or consider increasing regularisation. Duality gap: 1.378e+01, tolerance: 4.017e-01\n",
      "  model = cd_fast.enet_coordinate_descent(\n",
      "C:\\Users\\USER\\AppData\\Roaming\\Python\\Python312\\site-packages\\sklearn\\linear_model\\_coordinate_descent.py:678: ConvergenceWarning: Objective did not converge. You might want to increase the number of iterations, check the scale of the features or consider increasing regularisation. Duality gap: 1.195e+01, tolerance: 4.017e-01\n",
      "  model = cd_fast.enet_coordinate_descent(\n",
      "C:\\Users\\USER\\AppData\\Roaming\\Python\\Python312\\site-packages\\sklearn\\linear_model\\_coordinate_descent.py:678: ConvergenceWarning: Objective did not converge. You might want to increase the number of iterations, check the scale of the features or consider increasing regularisation. Duality gap: 7.698e+00, tolerance: 4.017e-01\n",
      "  model = cd_fast.enet_coordinate_descent(\n",
      "C:\\Users\\USER\\AppData\\Roaming\\Python\\Python312\\site-packages\\sklearn\\linear_model\\_coordinate_descent.py:678: ConvergenceWarning: Objective did not converge. You might want to increase the number of iterations, check the scale of the features or consider increasing regularisation. Duality gap: 5.653e+00, tolerance: 4.017e-01\n",
      "  model = cd_fast.enet_coordinate_descent(\n",
      "C:\\Users\\USER\\AppData\\Roaming\\Python\\Python312\\site-packages\\sklearn\\linear_model\\_coordinate_descent.py:678: ConvergenceWarning: Objective did not converge. You might want to increase the number of iterations, check the scale of the features or consider increasing regularisation. Duality gap: 2.576e+00, tolerance: 4.017e-01\n",
      "  model = cd_fast.enet_coordinate_descent(\n",
      "C:\\Users\\USER\\AppData\\Roaming\\Python\\Python312\\site-packages\\sklearn\\linear_model\\_coordinate_descent.py:678: ConvergenceWarning: Objective did not converge. You might want to increase the number of iterations, check the scale of the features or consider increasing regularisation. Duality gap: 8.891e-01, tolerance: 4.017e-01\n",
      "  model = cd_fast.enet_coordinate_descent(\n",
      "C:\\Users\\USER\\AppData\\Roaming\\Python\\Python312\\site-packages\\sklearn\\linear_model\\_coordinate_descent.py:678: ConvergenceWarning: Objective did not converge. You might want to increase the number of iterations, check the scale of the features or consider increasing regularisation. Duality gap: 8.625e-01, tolerance: 4.017e-01\n",
      "  model = cd_fast.enet_coordinate_descent(\n",
      "C:\\Users\\USER\\AppData\\Roaming\\Python\\Python312\\site-packages\\sklearn\\linear_model\\_coordinate_descent.py:678: ConvergenceWarning: Objective did not converge. You might want to increase the number of iterations, check the scale of the features or consider increasing regularisation. Duality gap: 4.735e-01, tolerance: 4.017e-01\n",
      "  model = cd_fast.enet_coordinate_descent(\n",
      "C:\\Users\\USER\\AppData\\Roaming\\Python\\Python312\\site-packages\\sklearn\\linear_model\\_coordinate_descent.py:678: ConvergenceWarning: Objective did not converge. You might want to increase the number of iterations, check the scale of the features or consider increasing regularisation. Duality gap: 1.471e+01, tolerance: 4.017e-01\n",
      "  model = cd_fast.enet_coordinate_descent(\n",
      "C:\\Users\\USER\\AppData\\Roaming\\Python\\Python312\\site-packages\\sklearn\\linear_model\\_coordinate_descent.py:678: ConvergenceWarning: Objective did not converge. You might want to increase the number of iterations, check the scale of the features or consider increasing regularisation. Duality gap: 1.369e+01, tolerance: 4.017e-01\n",
      "  model = cd_fast.enet_coordinate_descent(\n",
      "C:\\Users\\USER\\AppData\\Roaming\\Python\\Python312\\site-packages\\sklearn\\linear_model\\_coordinate_descent.py:678: ConvergenceWarning: Objective did not converge. You might want to increase the number of iterations, check the scale of the features or consider increasing regularisation. Duality gap: 1.196e+01, tolerance: 4.017e-01\n",
      "  model = cd_fast.enet_coordinate_descent(\n",
      "C:\\Users\\USER\\AppData\\Roaming\\Python\\Python312\\site-packages\\sklearn\\linear_model\\_coordinate_descent.py:678: ConvergenceWarning: Objective did not converge. You might want to increase the number of iterations, check the scale of the features or consider increasing regularisation. Duality gap: 8.827e+00, tolerance: 4.017e-01\n",
      "  model = cd_fast.enet_coordinate_descent(\n",
      "C:\\Users\\USER\\AppData\\Roaming\\Python\\Python312\\site-packages\\sklearn\\linear_model\\_coordinate_descent.py:678: ConvergenceWarning: Objective did not converge. You might want to increase the number of iterations, check the scale of the features or consider increasing regularisation. Duality gap: 5.772e+00, tolerance: 4.017e-01\n",
      "  model = cd_fast.enet_coordinate_descent(\n",
      "C:\\Users\\USER\\AppData\\Roaming\\Python\\Python312\\site-packages\\sklearn\\linear_model\\_coordinate_descent.py:678: ConvergenceWarning: Objective did not converge. You might want to increase the number of iterations, check the scale of the features or consider increasing regularisation. Duality gap: 2.576e+00, tolerance: 4.017e-01\n",
      "  model = cd_fast.enet_coordinate_descent(\n",
      "C:\\Users\\USER\\AppData\\Roaming\\Python\\Python312\\site-packages\\sklearn\\linear_model\\_coordinate_descent.py:678: ConvergenceWarning: Objective did not converge. You might want to increase the number of iterations, check the scale of the features or consider increasing regularisation. Duality gap: 7.955e-01, tolerance: 4.017e-01\n",
      "  model = cd_fast.enet_coordinate_descent(\n",
      "C:\\Users\\USER\\AppData\\Roaming\\Python\\Python312\\site-packages\\sklearn\\linear_model\\_coordinate_descent.py:678: ConvergenceWarning: Objective did not converge. You might want to increase the number of iterations, check the scale of the features or consider increasing regularisation. Duality gap: 8.308e-01, tolerance: 4.017e-01\n",
      "  model = cd_fast.enet_coordinate_descent(\n",
      "C:\\Users\\USER\\AppData\\Roaming\\Python\\Python312\\site-packages\\sklearn\\linear_model\\_coordinate_descent.py:678: ConvergenceWarning: Objective did not converge. You might want to increase the number of iterations, check the scale of the features or consider increasing regularisation. Duality gap: 5.279e-01, tolerance: 4.017e-01\n",
      "  model = cd_fast.enet_coordinate_descent(\n",
      "C:\\Users\\USER\\AppData\\Roaming\\Python\\Python312\\site-packages\\sklearn\\linear_model\\_coordinate_descent.py:678: ConvergenceWarning: Objective did not converge. You might want to increase the number of iterations, check the scale of the features or consider increasing regularisation. Duality gap: 1.348e+01, tolerance: 4.017e-01\n",
      "  model = cd_fast.enet_coordinate_descent(\n",
      "C:\\Users\\USER\\AppData\\Roaming\\Python\\Python312\\site-packages\\sklearn\\linear_model\\_coordinate_descent.py:678: ConvergenceWarning: Objective did not converge. You might want to increase the number of iterations, check the scale of the features or consider increasing regularisation. Duality gap: 1.228e+01, tolerance: 4.017e-01\n",
      "  model = cd_fast.enet_coordinate_descent(\n",
      "C:\\Users\\USER\\AppData\\Roaming\\Python\\Python312\\site-packages\\sklearn\\linear_model\\_coordinate_descent.py:678: ConvergenceWarning: Objective did not converge. You might want to increase the number of iterations, check the scale of the features or consider increasing regularisation. Duality gap: 1.054e+01, tolerance: 4.017e-01\n",
      "  model = cd_fast.enet_coordinate_descent(\n",
      "C:\\Users\\USER\\AppData\\Roaming\\Python\\Python312\\site-packages\\sklearn\\linear_model\\_coordinate_descent.py:678: ConvergenceWarning: Objective did not converge. You might want to increase the number of iterations, check the scale of the features or consider increasing regularisation. Duality gap: 8.194e+00, tolerance: 4.017e-01\n",
      "  model = cd_fast.enet_coordinate_descent(\n",
      "C:\\Users\\USER\\AppData\\Roaming\\Python\\Python312\\site-packages\\sklearn\\linear_model\\_coordinate_descent.py:678: ConvergenceWarning: Objective did not converge. You might want to increase the number of iterations, check the scale of the features or consider increasing regularisation. Duality gap: 6.338e+00, tolerance: 4.017e-01\n",
      "  model = cd_fast.enet_coordinate_descent(\n",
      "C:\\Users\\USER\\AppData\\Roaming\\Python\\Python312\\site-packages\\sklearn\\linear_model\\_coordinate_descent.py:678: ConvergenceWarning: Objective did not converge. You might want to increase the number of iterations, check the scale of the features or consider increasing regularisation. Duality gap: 2.280e+00, tolerance: 4.017e-01\n",
      "  model = cd_fast.enet_coordinate_descent(\n",
      "C:\\Users\\USER\\AppData\\Roaming\\Python\\Python312\\site-packages\\sklearn\\linear_model\\_coordinate_descent.py:678: ConvergenceWarning: Objective did not converge. You might want to increase the number of iterations, check the scale of the features or consider increasing regularisation. Duality gap: 7.336e-01, tolerance: 4.017e-01\n",
      "  model = cd_fast.enet_coordinate_descent(\n",
      "C:\\Users\\USER\\AppData\\Roaming\\Python\\Python312\\site-packages\\sklearn\\linear_model\\_coordinate_descent.py:678: ConvergenceWarning: Objective did not converge. You might want to increase the number of iterations, check the scale of the features or consider increasing regularisation. Duality gap: 8.415e-01, tolerance: 4.017e-01\n",
      "  model = cd_fast.enet_coordinate_descent(\n",
      "C:\\Users\\USER\\AppData\\Roaming\\Python\\Python312\\site-packages\\sklearn\\linear_model\\_coordinate_descent.py:678: ConvergenceWarning: Objective did not converge. You might want to increase the number of iterations, check the scale of the features or consider increasing regularisation. Duality gap: 6.379e-01, tolerance: 4.017e-01\n",
      "  model = cd_fast.enet_coordinate_descent(\n",
      "C:\\Users\\USER\\AppData\\Roaming\\Python\\Python312\\site-packages\\sklearn\\linear_model\\_coordinate_descent.py:678: ConvergenceWarning: Objective did not converge. You might want to increase the number of iterations, check the scale of the features or consider increasing regularisation. Duality gap: 1.218e+01, tolerance: 4.017e-01\n",
      "  model = cd_fast.enet_coordinate_descent(\n",
      "C:\\Users\\USER\\AppData\\Roaming\\Python\\Python312\\site-packages\\sklearn\\linear_model\\_coordinate_descent.py:678: ConvergenceWarning: Objective did not converge. You might want to increase the number of iterations, check the scale of the features or consider increasing regularisation. Duality gap: 1.083e+01, tolerance: 4.017e-01\n",
      "  model = cd_fast.enet_coordinate_descent(\n",
      "C:\\Users\\USER\\AppData\\Roaming\\Python\\Python312\\site-packages\\sklearn\\linear_model\\_coordinate_descent.py:678: ConvergenceWarning: Objective did not converge. You might want to increase the number of iterations, check the scale of the features or consider increasing regularisation. Duality gap: 9.346e+00, tolerance: 4.017e-01\n",
      "  model = cd_fast.enet_coordinate_descent(\n",
      "C:\\Users\\USER\\AppData\\Roaming\\Python\\Python312\\site-packages\\sklearn\\linear_model\\_coordinate_descent.py:678: ConvergenceWarning: Objective did not converge. You might want to increase the number of iterations, check the scale of the features or consider increasing regularisation. Duality gap: 7.272e+00, tolerance: 4.017e-01\n",
      "  model = cd_fast.enet_coordinate_descent(\n",
      "C:\\Users\\USER\\AppData\\Roaming\\Python\\Python312\\site-packages\\sklearn\\linear_model\\_coordinate_descent.py:678: ConvergenceWarning: Objective did not converge. You might want to increase the number of iterations, check the scale of the features or consider increasing regularisation. Duality gap: 5.870e+00, tolerance: 4.017e-01\n",
      "  model = cd_fast.enet_coordinate_descent(\n",
      "C:\\Users\\USER\\AppData\\Roaming\\Python\\Python312\\site-packages\\sklearn\\linear_model\\_coordinate_descent.py:678: ConvergenceWarning: Objective did not converge. You might want to increase the number of iterations, check the scale of the features or consider increasing regularisation. Duality gap: 2.865e+00, tolerance: 4.017e-01\n",
      "  model = cd_fast.enet_coordinate_descent(\n",
      "C:\\Users\\USER\\AppData\\Roaming\\Python\\Python312\\site-packages\\sklearn\\linear_model\\_coordinate_descent.py:678: ConvergenceWarning: Objective did not converge. You might want to increase the number of iterations, check the scale of the features or consider increasing regularisation. Duality gap: 8.590e-01, tolerance: 4.017e-01\n",
      "  model = cd_fast.enet_coordinate_descent(\n",
      "C:\\Users\\USER\\AppData\\Roaming\\Python\\Python312\\site-packages\\sklearn\\linear_model\\_coordinate_descent.py:678: ConvergenceWarning: Objective did not converge. You might want to increase the number of iterations, check the scale of the features or consider increasing regularisation. Duality gap: 8.463e-01, tolerance: 4.017e-01\n",
      "  model = cd_fast.enet_coordinate_descent(\n",
      "C:\\Users\\USER\\AppData\\Roaming\\Python\\Python312\\site-packages\\sklearn\\linear_model\\_coordinate_descent.py:678: ConvergenceWarning: Objective did not converge. You might want to increase the number of iterations, check the scale of the features or consider increasing regularisation. Duality gap: 7.864e-01, tolerance: 4.017e-01\n",
      "  model = cd_fast.enet_coordinate_descent(\n",
      "C:\\Users\\USER\\AppData\\Roaming\\Python\\Python312\\site-packages\\sklearn\\linear_model\\_coordinate_descent.py:678: ConvergenceWarning: Objective did not converge. You might want to increase the number of iterations, check the scale of the features or consider increasing regularisation. Duality gap: 1.183e+01, tolerance: 4.017e-01\n",
      "  model = cd_fast.enet_coordinate_descent(\n",
      "C:\\Users\\USER\\AppData\\Roaming\\Python\\Python312\\site-packages\\sklearn\\linear_model\\_coordinate_descent.py:678: ConvergenceWarning: Objective did not converge. You might want to increase the number of iterations, check the scale of the features or consider increasing regularisation. Duality gap: 1.020e+01, tolerance: 4.017e-01\n",
      "  model = cd_fast.enet_coordinate_descent(\n",
      "C:\\Users\\USER\\AppData\\Roaming\\Python\\Python312\\site-packages\\sklearn\\linear_model\\_coordinate_descent.py:678: ConvergenceWarning: Objective did not converge. You might want to increase the number of iterations, check the scale of the features or consider increasing regularisation. Duality gap: 7.727e+00, tolerance: 4.017e-01\n",
      "  model = cd_fast.enet_coordinate_descent(\n",
      "C:\\Users\\USER\\AppData\\Roaming\\Python\\Python312\\site-packages\\sklearn\\linear_model\\_coordinate_descent.py:678: ConvergenceWarning: Objective did not converge. You might want to increase the number of iterations, check the scale of the features or consider increasing regularisation. Duality gap: 7.010e+00, tolerance: 4.017e-01\n",
      "  model = cd_fast.enet_coordinate_descent(\n",
      "C:\\Users\\USER\\AppData\\Roaming\\Python\\Python312\\site-packages\\sklearn\\linear_model\\_coordinate_descent.py:678: ConvergenceWarning: Objective did not converge. You might want to increase the number of iterations, check the scale of the features or consider increasing regularisation. Duality gap: 5.310e+00, tolerance: 4.017e-01\n",
      "  model = cd_fast.enet_coordinate_descent(\n",
      "C:\\Users\\USER\\AppData\\Roaming\\Python\\Python312\\site-packages\\sklearn\\linear_model\\_coordinate_descent.py:678: ConvergenceWarning: Objective did not converge. You might want to increase the number of iterations, check the scale of the features or consider increasing regularisation. Duality gap: 2.952e+00, tolerance: 4.017e-01\n",
      "  model = cd_fast.enet_coordinate_descent(\n",
      "C:\\Users\\USER\\AppData\\Roaming\\Python\\Python312\\site-packages\\sklearn\\linear_model\\_coordinate_descent.py:678: ConvergenceWarning: Objective did not converge. You might want to increase the number of iterations, check the scale of the features or consider increasing regularisation. Duality gap: 1.313e+00, tolerance: 4.017e-01\n",
      "  model = cd_fast.enet_coordinate_descent(\n",
      "C:\\Users\\USER\\AppData\\Roaming\\Python\\Python312\\site-packages\\sklearn\\linear_model\\_coordinate_descent.py:678: ConvergenceWarning: Objective did not converge. You might want to increase the number of iterations, check the scale of the features or consider increasing regularisation. Duality gap: 8.461e-01, tolerance: 4.017e-01\n",
      "  model = cd_fast.enet_coordinate_descent(\n",
      "C:\\Users\\USER\\AppData\\Roaming\\Python\\Python312\\site-packages\\sklearn\\linear_model\\_coordinate_descent.py:678: ConvergenceWarning: Objective did not converge. You might want to increase the number of iterations, check the scale of the features or consider increasing regularisation. Duality gap: 9.451e-01, tolerance: 4.017e-01\n",
      "  model = cd_fast.enet_coordinate_descent(\n"
     ]
    }
   ],
   "source": [
    "lasso_pipeline = Pipeline([('scaler', MaxAbsScaler()), ('poly', PolynomialFeatures()), ('lasso', Lasso())])\n",
    "\n",
    "lasso_select_params = ParameterGrid({'poly__degree': np.arange(1, 10 + 1)})\n",
    "\n",
    "lasso_params = ParameterGrid({'lasso__alpha': np.logspace(-4, 4, 50)})\n",
    "\n",
    "lasso_selected, lasso_selected_mean_score, lasso_results = run_tests_select(lasso_pipeline, lasso_select_params, lasso_params, X_train, X_test, y_train, y_test, results_former=lasso_results_former)"
   ]
  },
  {
   "cell_type": "code",
   "execution_count": 99,
   "id": "141738aa",
   "metadata": {},
   "outputs": [
    {
     "name": "stdout",
     "output_type": "stream",
     "text": [
      "Оптимальная степень полинома: 6\n",
      "Среднее MSE: 14.95378\n"
     ]
    }
   ],
   "source": [
    "print(f'Оптимальная степень полинома: {lasso_selected['poly__degree']}\\nСреднее MSE: {lasso_selected_mean_score:.5f}')"
   ]
  },
  {
   "cell_type": "code",
   "execution_count": 100,
   "id": "fc610376",
   "metadata": {},
   "outputs": [],
   "source": [
    "df_lasso_results = pd.DataFrame(lasso_results, columns=['Alpha', 'Максимальный модуль параметров', 'MSE'])"
   ]
  },
  {
   "cell_type": "code",
   "execution_count": 101,
   "id": "a9658697",
   "metadata": {},
   "outputs": [
    {
     "data": {
      "image/png": "[encoded data removed]",
      "text/plain": [
       "<Figure size 640x480 with 1 Axes>"
      ]
     },
     "metadata": {},
     "output_type": "display_data"
    }
   ],
   "source": [
    "plt.plot(df_lasso_results['Alpha'], df_lasso_results['MSE'], label='MSE')\n",
    "plt.plot(df_lasso_results['Alpha'], df_lasso_results['Максимальный модуль параметров'], label='Максимальный модуль параметров')\n",
    "plt.xscale('log')\n",
    "plt.xlabel('Alpha')\n",
    "plt.ylabel('Значение')\n",
    "plt.title('Лассо: MSE и максимальный модуль параметров')\n",
    "plt.legend()\n",
    "plt.show()"
   ]
  },
  {
   "cell_type": "markdown",
   "id": "d0808d6b",
   "metadata": {},
   "source": [
    "### 5. SVR"
   ]
  },
  {
   "cell_type": "code",
   "execution_count": 102,
   "id": "31923f3c",
   "metadata": {},
   "outputs": [],
   "source": [
    "def svr_results_former(pipeline, score, **params):\n",
    "    return (params['svr__kernel'], params['svr__C'], f'{params['svr__gamma']}', params['svr__epsilon'], score)"
   ]
  },
  {
   "cell_type": "code",
   "execution_count": 103,
   "id": "f121fd6c",
   "metadata": {},
   "outputs": [],
   "source": [
    "svr_pipeline = Pipeline([('scaler', MaxAbsScaler()), ('svr', SVR())])\n",
    "\n",
    "svr_params = ParameterGrid({'svr__kernel': ['poly', 'sigmoid']})\n",
    "svr_optimize_params = {'svr__C': [0.1, 1, 10, 100, 1000, 10000], 'svr__gamma': [0.01, 0.1, 1, 'scale', 'auto'], 'svr__epsilon': [0.01, 0.1, 1]}\n",
    "\n",
    "svr_selected, svr_selected_mean_score, svr_results = run_tests_optimize(svr_pipeline, svr_params, svr_optimize_params, X_train, X_test, y_train, y_test, results_former=svr_results_former)"
   ]
  },
  {
   "cell_type": "code",
   "execution_count": 104,
   "id": "7ac0da9f",
   "metadata": {},
   "outputs": [
    {
     "name": "stdout",
     "output_type": "stream",
     "text": [
      "Оптимальная модель SVR:\n",
      "\tKernel: sigmoid\n",
      "\tC: 10000\n",
      "\tgamma: 0.01\n",
      "\tepsilon: 1\n",
      "MSE: 14.95378\n"
     ]
    }
   ],
   "source": [
    "print(f'Оптимальная модель SVR:\\n\\tKernel: {svr_selected['svr__kernel']}\\n\\tC: {svr_selected['svr__C']}\\n\\tgamma: {svr_selected['svr__gamma']}\\n\\tepsilon: {svr_selected['svr__epsilon']}\\nMSE: {lasso_selected_mean_score:.5f}')"
   ]
  },
  {
   "cell_type": "code",
   "execution_count": 105,
   "id": "46196868",
   "metadata": {},
   "outputs": [
    {
     "data": {
      "text/html": [
       "<div>\n",
       "<style scoped>\n",
       "    .dataframe tbody tr th:only-of-type {\n",
       "        vertical-align: middle;\n",
       "    }\n",
       "\n",
       "    .dataframe tbody tr th {\n",
       "        vertical-align: top;\n",
       "    }\n",
       "\n",
       "    .dataframe thead th {\n",
       "        text-align: right;\n",
       "    }\n",
       "</style>\n",
       "<table border=\"1\" class=\"dataframe\">\n",
       "  <thead>\n",
       "    <tr style=\"text-align: right;\">\n",
       "      <th></th>\n",
       "      <th>Функция ядра</th>\n",
       "      <th>C</th>\n",
       "      <th>gamma</th>\n",
       "      <th>epsilon</th>\n",
       "      <th>MSE</th>\n",
       "    </tr>\n",
       "  </thead>\n",
       "  <tbody>\n",
       "    <tr>\n",
       "      <th>0</th>\n",
       "      <td>poly</td>\n",
       "      <td>10000</td>\n",
       "      <td>1</td>\n",
       "      <td>1</td>\n",
       "      <td>3.343103</td>\n",
       "    </tr>\n",
       "    <tr>\n",
       "      <th>1</th>\n",
       "      <td>sigmoid</td>\n",
       "      <td>10000</td>\n",
       "      <td>0.01</td>\n",
       "      <td>1</td>\n",
       "      <td>2.959684</td>\n",
       "    </tr>\n",
       "  </tbody>\n",
       "</table>\n",
       "</div>"
      ],
      "text/plain": [
       "  Функция ядра      C gamma  epsilon       MSE\n",
       "0         poly  10000     1        1  3.343103\n",
       "1      sigmoid  10000  0.01        1  2.959684"
      ]
     },
     "execution_count": 105,
     "metadata": {},
     "output_type": "execute_result"
    }
   ],
   "source": [
    "df_svr_results = pd.DataFrame(svr_results, columns=['Функция ядра', 'C', 'gamma', 'epsilon', 'MSE'])\n",
    "\n",
    "df_svr_results"
   ]
  }
 ],
 "metadata": {
  "kernelspec": {
   "display_name": "Python 3 (ipykernel)",
   "language": "python",
   "name": "python3"
  },
  "language_info": {
   "codemirror_mode": {
    "name": "ipython",
    "version": 3
   },
   "file_extension": ".py",
   "mimetype": "text/x-python",
   "name": "python",
   "nbconvert_exporter": "python",
   "pygments_lexer": "ipython3",
   "version": "3.12.1"
  }
 },
 "nbformat": 4,
 "nbformat_minor": 5
}
