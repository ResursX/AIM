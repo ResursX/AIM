{
 "cells": [
  {
   "cell_type": "markdown",
   "metadata": {},
   "source": [
    "## Задание"
   ]
  },
  {
   "cell_type": "markdown",
   "metadata": {},
   "source": [
    "### Задание 10"
   ]
  },
  {
   "cell_type": "markdown",
   "metadata": {},
   "source": [
    "1. Сгенерируйте набор данных для предсказания временных последовательностей. Выполните тренировку RNN\n",
    "2. Модифицируйте сеть, используя в качестве рекуррентного слоя LSTM слой библиотеки pytorch.\n",
    " \n",
    "https://pytorch.org/docs/stable/generated/torch.nn.LSTM.html"
   ]
  },
  {
   "cell_type": "markdown",
   "metadata": {},
   "source": [
    "### Задание 7\n",
    "\n",
    "1. Разделить данные на N групп. (возможно, выбрать первые M данных для обучения)\n",
    "2. Реализовать предсказание ARIMA для 2 (тренировочной группы) на основе 1. Рассчитать MSE.\n",
    "3. Исследовать качество работы модели в зависимости от параметров (для групп 1-2).\n",
    "4. Выполнить итеративное предсказание, данные для каждого следующего предсказания обновлять по методу \"экспоненциальное среднее\"."
   ]
  },
  {
   "cell_type": "markdown",
   "metadata": {},
   "source": [
    "## Решение"
   ]
  },
  {
   "cell_type": "markdown",
   "metadata": {},
   "source": [
    "### Импорт"
   ]
  },
  {
   "cell_type": "code",
   "execution_count": 1,
   "metadata": {},
   "outputs": [],
   "source": [
    "import os\n",
    "\n",
    "import numpy as np\n",
    "import pandas as pd\n",
    "\n",
    "import matplotlib.pyplot as plt\n",
    "\n",
    "import torch\n",
    "from torch import nn\n",
    "import torch.optim as optim\n",
    "from torch.utils.data import Dataset, DataLoader\n",
    "\n",
    "from sklearn.metrics import mean_squared_error\n",
    "from sklearn.model_selection import ParameterGrid\n",
    "\n",
    "from common.progressbar import log_progress"
   ]
  },
  {
   "cell_type": "markdown",
   "metadata": {},
   "source": [
    "### Настройки"
   ]
  },
  {
   "cell_type": "code",
   "execution_count": 2,
   "metadata": {},
   "outputs": [],
   "source": [
    "RANDOM_STATE = 42\n",
    "\n",
    "# Lab 10\n",
    "EPOCHS = 50\n",
    "\n",
    "SEQUENCE_LENGTH = 20\n",
    "LENGTH = 2000\n",
    "TRAIN_SET_SIZE = 0.6\n",
    "\n",
    "INPUT_SIZE = 1\n",
    "HIDDEN_SIZE = 50\n",
    "OUTPUT_SIZE = 1\n",
    "NUM_LAYERS = 1\n",
    "\n",
    "# Lab 7\n",
    "SPLITS = 2\n",
    "\n",
    "# Папка лабораторной\n",
    "DIR_LAB = 'Lab7'\n",
    "\n",
    "# Папка для загруженных данных\n",
    "DIR_DATA = 'data'\n",
    "\n",
    "# Файлы с данными\n",
    "FILE_DATA_7 = 'ETTm1.csv'"
   ]
  },
  {
   "cell_type": "code",
   "execution_count": 3,
   "metadata": {},
   "outputs": [],
   "source": [
    "PATH_DATA_7 = os.path.join(DIR_LAB, DIR_DATA, FILE_DATA_7)"
   ]
  },
  {
   "cell_type": "code",
   "execution_count": 4,
   "metadata": {},
   "outputs": [
    {
     "data": {
      "text/plain": [
       "<torch._C.Generator at 0x243f8787c50>"
      ]
     },
     "execution_count": 4,
     "metadata": {},
     "output_type": "execute_result"
    }
   ],
   "source": [
    "np.random.seed(RANDOM_STATE)\n",
    "torch.manual_seed(RANDOM_STATE)"
   ]
  },
  {
   "cell_type": "code",
   "execution_count": 5,
   "metadata": {},
   "outputs": [],
   "source": [
    "device = torch.device(\"cuda\" if torch.cuda.is_available() else \"cpu\")"
   ]
  },
  {
   "cell_type": "markdown",
   "metadata": {},
   "source": [
    "### Задание 10"
   ]
  },
  {
   "cell_type": "code",
   "execution_count": 6,
   "metadata": {},
   "outputs": [],
   "source": [
    "class RNN(nn.Module):\n",
    "    def __init__(self, input_size, hidden_size, output_size, num_layers=1):\n",
    "        super(RNN, self).__init__()\n",
    "        \n",
    "        self.hidden_size=hidden_size\n",
    "\n",
    "        self.rnn = nn.RNN(input_size, hidden_size, num_layers=num_layers, batch_first=True)\n",
    "        \n",
    "        self.fc = nn.Linear(hidden_size, output_size)\n",
    "\n",
    "    def forward(self, x):\n",
    "        h0 = torch.zeros(1, x.size(0), self.hidden_size).to(device)\n",
    "\n",
    "        out, _ = self.rnn(x, h0)\n",
    "        \n",
    "        output = self.fc(out[:, -1, :])\n",
    "        \n",
    "        return output"
   ]
  },
  {
   "cell_type": "code",
   "execution_count": 7,
   "metadata": {},
   "outputs": [],
   "source": [
    "class LSTM(nn.Module):\n",
    "    def __init__(self, input_size, hidden_size, output_size, num_layers=1):\n",
    "        super(LSTM, self).__init__()\n",
    "        \n",
    "        self.hidden_size=hidden_size\n",
    "\n",
    "        self.lstm = nn.LSTM(input_size, hidden_size, num_layers=num_layers, batch_first=True)\n",
    "        \n",
    "        self.fc = nn.Linear(hidden_size, output_size)\n",
    "\n",
    "    def forward(self, x):\n",
    "        h0 = torch.zeros(1, x.size(0), self.hidden_size).to(device)  # Инициализация скрытого состояния\n",
    "        c0 = torch.zeros(1, x.size(0), self.hidden_size).to(device)  # Инициализация состояния ячейки\n",
    "\n",
    "        out, _ = self.lstm(x, (h0, c0))\n",
    "\n",
    "        output = self.fc(out[:, -1, :])\n",
    "        \n",
    "        return output"
   ]
  },
  {
   "cell_type": "code",
   "execution_count": 8,
   "metadata": {},
   "outputs": [],
   "source": [
    "def train_rnn(rnn, criterion, optimizer, dataloader, n_steps, print_every=10):\n",
    "    rnn.train()\n",
    "    \n",
    "    for step in log_progress(range(n_steps), name='Step'):\n",
    "        for batch_x, batch_y in dataloader:\n",
    "            batch_x = batch_x.view(-1, SEQUENCE_LENGTH, INPUT_SIZE)\n",
    "\n",
    "            prediction = rnn(batch_x)\n",
    "\n",
    "            loss = criterion(prediction, batch_y.unsqueeze(1))\n",
    "\n",
    "            optimizer.zero_grad()\n",
    "            loss.backward()\n",
    "            optimizer.step()\n",
    "\n",
    "        # display loss and predictions\n",
    "        if (step + 1) % print_every == 0:\n",
    "            print(f'Step: {step + 1}/{n_steps} - Loss {loss.item():.5f}')\n",
    "            #plt.plot(time_steps[1:], x, 'r.') # input\n",
    "            #plt.plot(time_steps[1:], prediction.data.numpy().flatten(), 'b.') # predictions\n",
    "            #plt.show()\n",
    "    \n",
    "    return rnn"
   ]
  },
  {
   "cell_type": "markdown",
   "metadata": {},
   "source": [
    "#### Датасет"
   ]
  },
  {
   "cell_type": "code",
   "execution_count": 9,
   "metadata": {},
   "outputs": [],
   "source": [
    "class SinusoidDataset(Dataset):\n",
    "    def __init__(self, length : int, sequence_length : int, start : int = 0, device=None): \n",
    "        self.length = length\n",
    "        self.sequence_length = sequence_length\n",
    "\n",
    "        data = np.sin(np.linspace(start, np.pi + start, length)) + np.random.normal(0, 0.01, length)\n",
    "\n",
    "        self.data = torch.from_numpy(data).float()\n",
    "\n",
    "        if device is not None:\n",
    "            self.data = self.data.to(device)\n",
    "\n",
    "    def __len__(self):\n",
    "        return self.length - self.sequence_length\n",
    "\n",
    "    def __getitem__(self, index):\n",
    "        return self.data[index:index + self.sequence_length], self.data[index + self.sequence_length]"
   ]
  },
  {
   "cell_type": "markdown",
   "metadata": {},
   "source": [
    "#### Генерация данных"
   ]
  },
  {
   "cell_type": "code",
   "execution_count": 10,
   "metadata": {},
   "outputs": [],
   "source": [
    "train_size = int(LENGTH * TRAIN_SET_SIZE)\n",
    "test_size = LENGTH - train_size"
   ]
  },
  {
   "cell_type": "code",
   "execution_count": 11,
   "metadata": {},
   "outputs": [],
   "source": [
    "train_dataset = SinusoidDataset(train_size, SEQUENCE_LENGTH, device=device)\n",
    "test_dataset = SinusoidDataset(test_size, SEQUENCE_LENGTH, start=train_size, device=device)"
   ]
  },
  {
   "cell_type": "code",
   "execution_count": 12,
   "metadata": {},
   "outputs": [],
   "source": [
    "train_dataloader = DataLoader(train_dataset, batch_size=32, shuffle=True)\n",
    "test_dataloader = DataLoader(test_dataset, batch_size=32, shuffle=False)"
   ]
  },
  {
   "cell_type": "markdown",
   "metadata": {},
   "source": [
    "#### Обучение моделей"
   ]
  },
  {
   "cell_type": "code",
   "execution_count": 13,
   "metadata": {},
   "outputs": [
    {
     "data": {
      "application/vnd.jupyter.widget-view+json": {
       "model_id": "783f484d1ddb411ebefedfdd88d54290",
       "version_major": 2,
       "version_minor": 0
      },
      "text/plain": [
       "VBox(children=(HTML(value=''), IntProgress(value=0, max=50)))"
      ]
     },
     "metadata": {},
     "output_type": "display_data"
    },
    {
     "name": "stdout",
     "output_type": "stream",
     "text": [
      "Step: 10/50 - Loss 0.00021\n",
      "Step: 20/50 - Loss 0.00028\n",
      "Step: 30/50 - Loss 0.00013\n",
      "Step: 40/50 - Loss 0.00007\n",
      "Step: 50/50 - Loss 0.00032\n"
     ]
    },
    {
     "data": {
      "text/plain": [
       "RNN(\n",
       "  (rnn): RNN(1, 50, batch_first=True)\n",
       "  (fc): Linear(in_features=50, out_features=1, bias=True)\n",
       ")"
      ]
     },
     "execution_count": 13,
     "metadata": {},
     "output_type": "execute_result"
    }
   ],
   "source": [
    "rnn_model = RNN(INPUT_SIZE, HIDDEN_SIZE, OUTPUT_SIZE, num_layers=NUM_LAYERS)\n",
    "rnn_optimizer = torch.optim.Adam(rnn_model.parameters(), lr=0.001)\n",
    "\n",
    "rnn_model = rnn_model.to(device)\n",
    "rnn_criterion = nn.MSELoss().to(device)\n",
    "\n",
    "train_rnn(rnn_model, rnn_criterion, rnn_optimizer, train_dataloader, EPOCHS)"
   ]
  },
  {
   "cell_type": "code",
   "execution_count": 14,
   "metadata": {},
   "outputs": [],
   "source": [
    "rnn_model.eval()\n",
    "\n",
    "rnn_predictions = []\n",
    "test_values = []\n",
    "\n",
    "with torch.no_grad():\n",
    "    for x_batch, y_batch in test_dataloader:\n",
    "        #x_batch = x_batch.unsqueeze(-1)\n",
    "\n",
    "        x_batch = x_batch.view(-1, SEQUENCE_LENGTH, INPUT_SIZE)\n",
    "\n",
    "        pred = rnn_model(x_batch)\n",
    "\n",
    "        rnn_predictions.extend(pred.squeeze().tolist())\n",
    "\n",
    "        test_values.extend(y_batch.squeeze().tolist())"
   ]
  },
  {
   "cell_type": "code",
   "execution_count": 15,
   "metadata": {},
   "outputs": [
    {
     "data": {
      "application/vnd.jupyter.widget-view+json": {
       "model_id": "8d013d73cce546eea8b61a4304877f1c",
       "version_major": 2,
       "version_minor": 0
      },
      "text/plain": [
       "VBox(children=(HTML(value=''), IntProgress(value=0, max=50)))"
      ]
     },
     "metadata": {},
     "output_type": "display_data"
    },
    {
     "name": "stdout",
     "output_type": "stream",
     "text": [
      "Step: 10/50 - Loss 0.00021\n",
      "Step: 20/50 - Loss 0.00016\n",
      "Step: 30/50 - Loss 0.00034\n",
      "Step: 40/50 - Loss 0.00042\n",
      "Step: 50/50 - Loss 0.00022\n"
     ]
    },
    {
     "data": {
      "text/plain": [
       "LSTM(\n",
       "  (lstm): LSTM(1, 50, batch_first=True)\n",
       "  (fc): Linear(in_features=50, out_features=1, bias=True)\n",
       ")"
      ]
     },
     "execution_count": 15,
     "metadata": {},
     "output_type": "execute_result"
    }
   ],
   "source": [
    "lstm_model = LSTM(INPUT_SIZE, HIDDEN_SIZE, OUTPUT_SIZE, num_layers=NUM_LAYERS)\n",
    "lstm_optimizer = torch.optim.Adam(lstm_model.parameters(), lr=0.01)\n",
    "\n",
    "lstm_model = lstm_model.to(device)\n",
    "lstm_criterion = nn.MSELoss().to(device)\n",
    "\n",
    "train_rnn(lstm_model, lstm_criterion, lstm_optimizer, train_dataloader, EPOCHS)"
   ]
  },
  {
   "cell_type": "code",
   "execution_count": 16,
   "metadata": {},
   "outputs": [],
   "source": [
    "lstm_model.eval()\n",
    "\n",
    "lstm_predictions = []\n",
    "\n",
    "with torch.no_grad():\n",
    "    for x_batch, y_batch in test_dataloader:\n",
    "        #x_batch = x_batch.unsqueeze(-1)\n",
    "\n",
    "        x_batch = x_batch.view(-1, SEQUENCE_LENGTH, INPUT_SIZE)\n",
    "\n",
    "        pred = lstm_model(x_batch)\n",
    "\n",
    "        lstm_predictions.extend(pred.squeeze().tolist())"
   ]
  },
  {
   "cell_type": "code",
   "execution_count": 17,
   "metadata": {},
   "outputs": [
    {
     "data": {
      "image/png": "[encoded data removed]",
      "text/plain": [
       "<Figure size 1000x500 with 1 Axes>"
      ]
     },
     "metadata": {},
     "output_type": "display_data"
    }
   ],
   "source": [
    "plt.figure(figsize=(10, 5))\n",
    "plt.plot(test_values, 'b', label='Фактические значения')\n",
    "plt.plot(rnn_predictions, 'r', label='Предсказанные значения RNN')\n",
    "plt.plot(lstm_predictions, 'g', label='Предсказанные значения LSTM')\n",
    "plt.title('Сравнение фактических и предсказанных значений (RNN и LSTM)')\n",
    "plt.xlabel('Шаги времени')\n",
    "plt.ylabel('Значение')\n",
    "plt.legend()\n",
    "plt.show()"
   ]
  },
  {
   "cell_type": "markdown",
   "metadata": {},
   "source": [
    "### Задание 7"
   ]
  },
  {
   "cell_type": "code",
   "execution_count": null,
   "metadata": {},
   "outputs": [],
   "source": [
    "from statsmodels.tsa.arima.model import ARIMA"
   ]
  },
  {
   "cell_type": "markdown",
   "metadata": {},
   "source": [
    "#### Загрузка данных\n",
    "#### 1. Разделить данные на N групп. (возможно, выбрать первые M данных для обучения)"
   ]
  },
  {
   "cell_type": "code",
   "execution_count": 71,
   "metadata": {},
   "outputs": [
    {
     "name": "stderr",
     "output_type": "stream",
     "text": [
      "C:\\Users\\USER\\AppData\\Roaming\\Python\\Python312\\site-packages\\numpy\\core\\fromnumeric.py:59: FutureWarning: 'DataFrame.swapaxes' is deprecated and will be removed in a future version. Please use 'DataFrame.transpose' instead.\n",
      "  return bound(*args, **kwds)\n"
     ]
    }
   ],
   "source": [
    "df = pd.read_csv(PATH_DATA_7)\n",
    "\n",
    "groups = np.array_split(df, SPLITS) "
   ]
  },
  {
   "cell_type": "markdown",
   "metadata": {},
   "source": [
    "#### 2. Реализовать предсказание ARIMA для 2 (тренировочной группы) на основе 1. Рассчитать MSE."
   ]
  },
  {
   "cell_type": "code",
   "execution_count": 72,
   "metadata": {},
   "outputs": [
    {
     "name": "stdout",
     "output_type": "stream",
     "text": [
      "Mean Squared Error: 92.36832833874486\n"
     ]
    }
   ],
   "source": [
    "train = groups[0].OT\n",
    "test = groups[1].OT\n",
    "\n",
    "model = ARIMA(train, order=(3,0,0))\n",
    "model_fit = model.fit()\n",
    "\n",
    "predictions = model_fit.forecast(steps=len(test))\n",
    "\n",
    "print(f'Mean Squared Error: {mean_squared_error(test, predictions)}')"
   ]
  },
  {
   "cell_type": "markdown",
   "metadata": {},
   "source": [
    "#### 3. Исследовать качество работы модели в зависимости от параметров (для групп 1-2)."
   ]
  },
  {
   "cell_type": "code",
   "execution_count": 92,
   "metadata": {},
   "outputs": [],
   "source": [
    "arima_params = ParameterGrid({'a': list(range(0, 4)), 'b': list(range(0, 4)), 'c': list(range(0, 4))})"
   ]
  },
  {
   "cell_type": "code",
   "execution_count": 93,
   "metadata": {},
   "outputs": [
    {
     "name": "stdout",
     "output_type": "stream",
     "text": [
      "(0, 0, 0) - MSE: 92.50025438661712\n"
     ]
    },
    {
     "name": "stderr",
     "output_type": "stream",
     "text": [
      "C:\\Users\\USER\\AppData\\Roaming\\Python\\Python312\\site-packages\\statsmodels\\tsa\\statespace\\sarimax.py:978: UserWarning: Non-invertible starting MA parameters found. Using zeros as starting parameters.\n",
      "  warn('Non-invertible starting MA parameters found.'\n"
     ]
    },
    {
     "name": "stdout",
     "output_type": "stream",
     "text": [
      "(0, 0, 1) - MSE: 92.50516015117314\n"
     ]
    },
    {
     "name": "stderr",
     "output_type": "stream",
     "text": [
      "C:\\Users\\USER\\AppData\\Roaming\\Python\\Python312\\site-packages\\statsmodels\\tsa\\statespace\\sarimax.py:978: UserWarning: Non-invertible starting MA parameters found. Using zeros as starting parameters.\n",
      "  warn('Non-invertible starting MA parameters found.'\n"
     ]
    },
    {
     "name": "stdout",
     "output_type": "stream",
     "text": [
      "(0, 0, 2) - MSE: 92.50719711377708\n"
     ]
    },
    {
     "name": "stderr",
     "output_type": "stream",
     "text": [
      "C:\\Users\\USER\\AppData\\Roaming\\Python\\Python312\\site-packages\\statsmodels\\tsa\\statespace\\sarimax.py:978: UserWarning: Non-invertible starting MA parameters found. Using zeros as starting parameters.\n",
      "  warn('Non-invertible starting MA parameters found.'\n"
     ]
    },
    {
     "name": "stdout",
     "output_type": "stream",
     "text": [
      "(0, 0, 3) - MSE: 92.5042982151774\n",
      "(0, 1, 0) - MSE: 136.5503960694064\n",
      "(0, 1, 1) - MSE: 136.61080895020714\n",
      "(0, 1, 2) - MSE: 136.77568000331667\n",
      "(0, 1, 3) - MSE: 136.9787730473259\n",
      "(0, 2, 0) - MSE: 136.55036023295233\n",
      "(0, 2, 1) - MSE: 448.58684987635434\n",
      "(0, 2, 2) - MSE: 52.44936955653594\n",
      "(0, 2, 3) - MSE: 55.99015531156847\n",
      "(0, 3, 0) - MSE: 1.3121025523400344e+16\n"
     ]
    },
    {
     "name": "stderr",
     "output_type": "stream",
     "text": [
      "C:\\Users\\USER\\AppData\\Roaming\\Python\\Python312\\site-packages\\statsmodels\\tsa\\statespace\\sarimax.py:978: UserWarning: Non-invertible starting MA parameters found. Using zeros as starting parameters.\n",
      "  warn('Non-invertible starting MA parameters found.'\n"
     ]
    },
    {
     "name": "stdout",
     "output_type": "stream",
     "text": [
      "(0, 3, 1) - MSE: 283198.88350425806\n"
     ]
    },
    {
     "name": "stderr",
     "output_type": "stream",
     "text": [
      "C:\\Users\\USER\\AppData\\Roaming\\Python\\Python312\\site-packages\\statsmodels\\tsa\\statespace\\sarimax.py:978: UserWarning: Non-invertible starting MA parameters found. Using zeros as starting parameters.\n",
      "  warn('Non-invertible starting MA parameters found.'\n"
     ]
    },
    {
     "name": "stdout",
     "output_type": "stream",
     "text": [
      "(0, 3, 2) - MSE: 41929136.605317205\n"
     ]
    },
    {
     "name": "stderr",
     "output_type": "stream",
     "text": [
      "C:\\Users\\USER\\AppData\\Roaming\\Python\\Python312\\site-packages\\statsmodels\\tsa\\statespace\\sarimax.py:978: UserWarning: Non-invertible starting MA parameters found. Using zeros as starting parameters.\n",
      "  warn('Non-invertible starting MA parameters found.'\n",
      "C:\\Users\\USER\\AppData\\Roaming\\Python\\Python312\\site-packages\\statsmodels\\base\\model.py:607: ConvergenceWarning: Maximum Likelihood optimization failed to converge. Check mle_retvals\n",
      "  warnings.warn(\"Maximum Likelihood optimization failed to \"\n"
     ]
    },
    {
     "name": "stdout",
     "output_type": "stream",
     "text": [
      "(0, 3, 3) - MSE: 66882878.41358596\n",
      "(1, 0, 0) - MSE: 92.34727195680478\n",
      "(1, 0, 1) - MSE: 92.38018705180568\n",
      "(1, 0, 2) - MSE: 92.36914428799521\n",
      "(1, 0, 3) - MSE: 92.3646706466209\n",
      "(1, 1, 0) - MSE: 136.5503960694064\n",
      "(1, 1, 1) - MSE: 136.67217926783354\n",
      "(1, 1, 2) - MSE: 137.2087002082253\n",
      "(1, 1, 3) - MSE: 137.25215289535495\n",
      "(1, 2, 0) - MSE: 6670436.733328922\n",
      "(1, 2, 1) - MSE: 53.61287213668197\n"
     ]
    },
    {
     "name": "stderr",
     "output_type": "stream",
     "text": [
      "C:\\Users\\USER\\AppData\\Roaming\\Python\\Python312\\site-packages\\statsmodels\\base\\model.py:607: ConvergenceWarning: Maximum Likelihood optimization failed to converge. Check mle_retvals\n",
      "  warnings.warn(\"Maximum Likelihood optimization failed to \"\n"
     ]
    },
    {
     "name": "stdout",
     "output_type": "stream",
     "text": [
      "(1, 2, 2) - MSE: 49.46435795086779\n",
      "(1, 2, 3) - MSE: 46.30802835015037\n",
      "(1, 3, 0) - MSE: 4945290508955504.0\n",
      "(1, 3, 1) - MSE: 5201670.843936067\n"
     ]
    },
    {
     "name": "stderr",
     "output_type": "stream",
     "text": [
      "C:\\Users\\USER\\AppData\\Roaming\\Python\\Python312\\site-packages\\statsmodels\\tsa\\statespace\\sarimax.py:978: UserWarning: Non-invertible starting MA parameters found. Using zeros as starting parameters.\n",
      "  warn('Non-invertible starting MA parameters found.'\n"
     ]
    },
    {
     "name": "stdout",
     "output_type": "stream",
     "text": [
      "(1, 3, 2) - MSE: 111509592.64432445\n"
     ]
    },
    {
     "name": "stderr",
     "output_type": "stream",
     "text": [
      "C:\\Users\\USER\\AppData\\Roaming\\Python\\Python312\\site-packages\\statsmodels\\tsa\\statespace\\sarimax.py:978: UserWarning: Non-invertible starting MA parameters found. Using zeros as starting parameters.\n",
      "  warn('Non-invertible starting MA parameters found.'\n",
      "C:\\Users\\USER\\AppData\\Roaming\\Python\\Python312\\site-packages\\statsmodels\\base\\model.py:607: ConvergenceWarning: Maximum Likelihood optimization failed to converge. Check mle_retvals\n",
      "  warnings.warn(\"Maximum Likelihood optimization failed to \"\n"
     ]
    },
    {
     "name": "stdout",
     "output_type": "stream",
     "text": [
      "(1, 3, 3) - MSE: 1027.7022137169492\n",
      "(2, 0, 0) - MSE: 92.38210694834207\n",
      "(2, 0, 1) - MSE: 92.4082903599046\n",
      "(2, 0, 2) - MSE: 92.36257320063613\n",
      "(2, 0, 3) - MSE: 92.35382939599114\n",
      "(2, 1, 0) - MSE: 136.86270698384772\n",
      "(2, 1, 1) - MSE: 136.99228379798703\n",
      "(2, 1, 2) - MSE: 137.21775298634418\n",
      "(2, 1, 3) - MSE: 137.21026358510642\n",
      "(2, 2, 0) - MSE: 16242618.776052244\n",
      "(2, 2, 1) - MSE: 52.152889346523835\n",
      "(2, 2, 2) - MSE: 46.21714230601652\n"
     ]
    },
    {
     "name": "stderr",
     "output_type": "stream",
     "text": [
      "C:\\Users\\USER\\AppData\\Roaming\\Python\\Python312\\site-packages\\statsmodels\\base\\model.py:607: ConvergenceWarning: Maximum Likelihood optimization failed to converge. Check mle_retvals\n",
      "  warnings.warn(\"Maximum Likelihood optimization failed to \"\n"
     ]
    },
    {
     "name": "stdout",
     "output_type": "stream",
     "text": [
      "(2, 2, 3) - MSE: 47.9101116870421\n",
      "(2, 3, 0) - MSE: 284309760634419.9\n",
      "(2, 3, 1) - MSE: 1372106.418944074\n"
     ]
    },
    {
     "name": "stderr",
     "output_type": "stream",
     "text": [
      "C:\\Users\\USER\\AppData\\Roaming\\Python\\Python312\\site-packages\\statsmodels\\tsa\\statespace\\sarimax.py:978: UserWarning: Non-invertible starting MA parameters found. Using zeros as starting parameters.\n",
      "  warn('Non-invertible starting MA parameters found.'\n"
     ]
    },
    {
     "name": "stdout",
     "output_type": "stream",
     "text": [
      "(2, 3, 2) - MSE: 94098446.55980985\n"
     ]
    },
    {
     "name": "stderr",
     "output_type": "stream",
     "text": [
      "C:\\Users\\USER\\AppData\\Roaming\\Python\\Python312\\site-packages\\statsmodels\\tsa\\statespace\\sarimax.py:978: UserWarning: Non-invertible starting MA parameters found. Using zeros as starting parameters.\n",
      "  warn('Non-invertible starting MA parameters found.'\n",
      "C:\\Users\\USER\\AppData\\Roaming\\Python\\Python312\\site-packages\\statsmodels\\base\\model.py:607: ConvergenceWarning: Maximum Likelihood optimization failed to converge. Check mle_retvals\n",
      "  warnings.warn(\"Maximum Likelihood optimization failed to \"\n"
     ]
    },
    {
     "name": "stdout",
     "output_type": "stream",
     "text": [
      "(2, 3, 3) - MSE: 1000870.1631601796\n",
      "(3, 0, 0) - MSE: 92.36832833874486\n",
      "(3, 0, 1) - MSE: 92.42580585012827\n",
      "(3, 0, 2) - MSE: 92.37876720816074\n",
      "(3, 0, 3) - MSE: 92.40707145259009\n",
      "(3, 1, 0) - MSE: 136.97130520841085\n"
     ]
    },
    {
     "name": "stderr",
     "output_type": "stream",
     "text": [
      "C:\\Users\\USER\\AppData\\Roaming\\Python\\Python312\\site-packages\\statsmodels\\tsa\\statespace\\sarimax.py:966: UserWarning: Non-stationary starting autoregressive parameters found. Using zeros as starting parameters.\n",
      "  warn('Non-stationary starting autoregressive parameters'\n",
      "C:\\Users\\USER\\AppData\\Roaming\\Python\\Python312\\site-packages\\statsmodels\\tsa\\statespace\\sarimax.py:978: UserWarning: Non-invertible starting MA parameters found. Using zeros as starting parameters.\n",
      "  warn('Non-invertible starting MA parameters found.'\n"
     ]
    },
    {
     "name": "stdout",
     "output_type": "stream",
     "text": [
      "(3, 1, 1) - MSE: 136.96598636214958\n"
     ]
    },
    {
     "name": "stderr",
     "output_type": "stream",
     "text": [
      "C:\\Users\\USER\\AppData\\Roaming\\Python\\Python312\\site-packages\\statsmodels\\tsa\\statespace\\sarimax.py:966: UserWarning: Non-stationary starting autoregressive parameters found. Using zeros as starting parameters.\n",
      "  warn('Non-stationary starting autoregressive parameters'\n",
      "C:\\Users\\USER\\AppData\\Roaming\\Python\\Python312\\site-packages\\statsmodels\\tsa\\statespace\\sarimax.py:978: UserWarning: Non-invertible starting MA parameters found. Using zeros as starting parameters.\n",
      "  warn('Non-invertible starting MA parameters found.'\n"
     ]
    },
    {
     "name": "stdout",
     "output_type": "stream",
     "text": [
      "(3, 1, 2) - MSE: 137.15282689643334\n",
      "(3, 1, 3) - MSE: 137.43229328614675\n",
      "(3, 2, 0) - MSE: 13942162.84344657\n"
     ]
    },
    {
     "name": "stderr",
     "output_type": "stream",
     "text": [
      "C:\\Users\\USER\\AppData\\Roaming\\Python\\Python312\\site-packages\\statsmodels\\tsa\\statespace\\sarimax.py:966: UserWarning: Non-stationary starting autoregressive parameters found. Using zeros as starting parameters.\n",
      "  warn('Non-stationary starting autoregressive parameters'\n",
      "C:\\Users\\USER\\AppData\\Roaming\\Python\\Python312\\site-packages\\statsmodels\\tsa\\statespace\\sarimax.py:978: UserWarning: Non-invertible starting MA parameters found. Using zeros as starting parameters.\n",
      "  warn('Non-invertible starting MA parameters found.'\n"
     ]
    },
    {
     "name": "stdout",
     "output_type": "stream",
     "text": [
      "(3, 2, 1) - MSE: 56.25782280038353\n",
      "(3, 2, 2) - MSE: 48.813914186161085\n"
     ]
    },
    {
     "name": "stderr",
     "output_type": "stream",
     "text": [
      "C:\\Users\\USER\\AppData\\Roaming\\Python\\Python312\\site-packages\\statsmodels\\base\\model.py:607: ConvergenceWarning: Maximum Likelihood optimization failed to converge. Check mle_retvals\n",
      "  warnings.warn(\"Maximum Likelihood optimization failed to \"\n"
     ]
    },
    {
     "name": "stdout",
     "output_type": "stream",
     "text": [
      "(3, 2, 3) - MSE: 466.0434116153173\n",
      "(3, 3, 0) - MSE: 19100801999642.902\n"
     ]
    },
    {
     "name": "stderr",
     "output_type": "stream",
     "text": [
      "C:\\Users\\USER\\AppData\\Roaming\\Python\\Python312\\site-packages\\statsmodels\\tsa\\statespace\\sarimax.py:966: UserWarning: Non-stationary starting autoregressive parameters found. Using zeros as starting parameters.\n",
      "  warn('Non-stationary starting autoregressive parameters'\n",
      "C:\\Users\\USER\\AppData\\Roaming\\Python\\Python312\\site-packages\\statsmodels\\tsa\\statespace\\sarimax.py:978: UserWarning: Non-invertible starting MA parameters found. Using zeros as starting parameters.\n",
      "  warn('Non-invertible starting MA parameters found.'\n"
     ]
    },
    {
     "name": "stdout",
     "output_type": "stream",
     "text": [
      "(3, 3, 1) - MSE: 870669.8712285461\n",
      "(3, 3, 2) - MSE: 95686980.7850888\n"
     ]
    },
    {
     "name": "stderr",
     "output_type": "stream",
     "text": [
      "C:\\Users\\USER\\AppData\\Roaming\\Python\\Python312\\site-packages\\statsmodels\\tsa\\statespace\\sarimax.py:978: UserWarning: Non-invertible starting MA parameters found. Using zeros as starting parameters.\n",
      "  warn('Non-invertible starting MA parameters found.'\n"
     ]
    },
    {
     "name": "stdout",
     "output_type": "stream",
     "text": [
      "(3, 3, 3) - MSE: 39041.26203963178\n"
     ]
    }
   ],
   "source": [
    "arima_results = []\n",
    "\n",
    "best_mse = float('inf')\n",
    "best_params = None\n",
    "\n",
    "for params in arima_params:\n",
    "    params_tuple = (*(params.values()),)\n",
    "\n",
    "    try:\n",
    "        model = ARIMA(train, order=params_tuple)\n",
    "        model_fit = model.fit()\n",
    "\n",
    "        predictions = model_fit.forecast(steps=len(test))\n",
    "\n",
    "        mse = mean_squared_error(test, predictions)\n",
    "\n",
    "        print(f'{params_tuple} - MSE: {mse}')\n",
    "\n",
    "        arima_results.append((*params_tuple, mse))\n",
    "\n",
    "        if mse < best_mse:\n",
    "            best_mse = mse\n",
    "            best_params = params_tuple\n",
    "    except:\n",
    "        print(f'Error with parameters {params_tuple}')"
   ]
  },
  {
   "cell_type": "code",
   "execution_count": 94,
   "metadata": {},
   "outputs": [
    {
     "name": "stdout",
     "output_type": "stream",
     "text": [
      "Best parameters: (2, 2, 2) - MSE: 46.21714230601652\n"
     ]
    }
   ],
   "source": [
    "print(f'Best parameters: {best_params} - MSE: {best_mse}')"
   ]
  },
  {
   "cell_type": "markdown",
   "metadata": {},
   "source": [
    "#### 4. Выполнить итеративное предсказание, данные для каждого следующего предсказания обновлять по методу \"экспоненциальное среднее\"."
   ]
  },
  {
   "cell_type": "code",
   "execution_count": 96,
   "metadata": {},
   "outputs": [
    {
     "name": "stdout",
     "output_type": "stream",
     "text": [
      "MSE: 0.1806306890449102\n"
     ]
    }
   ],
   "source": [
    "alpha = 0.5\n",
    "\n",
    "model = ARIMA(train, order=(2, 2, 2)).fit()\n",
    "predictions = []\n",
    "forecast_result = model.forecast(steps=1)\n",
    "\n",
    "current_prediction = forecast_result[0] if isinstance(forecast_result, (list, np.ndarray)) else forecast_result.iloc[0]\n",
    "\n",
    "for i in range(len(test)):\n",
    "    true_value = test.iloc[i]\n",
    "    predictions.append(current_prediction)\n",
    "    current_prediction = alpha * true_value + (1 - alpha) * current_prediction\n",
    "\n",
    "mse = mean_squared_error(test, predictions)\n",
    "print(f'MSE: {mse}')"
   ]
  },
  {
   "cell_type": "markdown",
   "metadata": {},
   "source": [
    "#### "
   ]
  }
 ],
 "metadata": {
  "kernelspec": {
   "display_name": "Python 3",
   "language": "python",
   "name": "python3"
  },
  "language_info": {
   "codemirror_mode": {
    "name": "ipython",
    "version": 3
   },
   "file_extension": ".py",
   "mimetype": "text/x-python",
   "name": "python",
   "nbconvert_exporter": "python",
   "pygments_lexer": "ipython3",
   "version": "3.12.1"
  }
 },
 "nbformat": 4,
 "nbformat_minor": 2
}
